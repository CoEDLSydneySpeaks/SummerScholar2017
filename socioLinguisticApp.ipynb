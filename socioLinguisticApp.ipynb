{
 "cells": [
  {
   "cell_type": "markdown",
   "metadata": {},
   "source": [
    "# App info"
   ]
  },
  {
   "cell_type": "code",
   "execution_count": 1,
   "metadata": {
    "collapsed": true
   },
   "outputs": [],
   "source": [
    "#__author__ = \"Simon Gonzalez (Writer and developer) and Nicole Harris (Testing and Improvements)\"\n",
    "#__year__ = \"2018\"\n",
    "#__credits__ = [\"Centre of Excellence for the Dynamics of Language, Sydney Speaks, Transcription Acceleration Project, Appen\"]\n",
    "#__license__ = \"GPL\"\n",
    "#__version__ = \"1.0.1\"\n",
    "#__maintainer__ = \"Simon Gonzalez\"\n",
    "#__email__ = \"simon.gonzalez@anu.edu.au\""
   ]
  },
  {
   "cell_type": "markdown",
   "metadata": {},
   "source": [
    "# Import libraries"
   ]
  },
  {
   "cell_type": "code",
   "execution_count": 6,
   "metadata": {
    "extensions": {
     "jupyter_dashboards": {
      "version": 1,
      "views": {
       "grid_default": {
        "hidden": true
       },
       "report_default": {}
      }
     }
    }
   },
   "outputs": [],
   "source": [
    "\n",
    "%matplotlib inline\n",
    "import functools\n",
    "import pandas as pd\n",
    "import numpy as np\n",
    "from ipywidgets import interact\n",
    "from ipywidgets import *\n",
    "import ipywidgets as widgets\n",
    "import seaborn as sns\n",
    "import matplotlib.pyplot as plt\n",
    "from IPython.display import display\n",
    "from scipy import stats\n",
    "from statsmodels.formula.api import ols, gls, wls, glm, rlm, mixedlm, Logit, Probit, MNLogit, Poisson\n",
    "import statsmodels.api as sm\n",
    "from statsmodels.graphics.mosaicplot import mosaic\n",
    "from pivottablejs import pivot_ui\n",
    "from beakerx import *\n",
    "\n",
    "import warnings\n",
    "\n",
    "warnings.filterwarnings('ignore')"
   ]
  },
  {
   "cell_type": "markdown",
   "metadata": {},
   "source": [
    "# Read input data"
   ]
  },
  {
   "cell_type": "markdown",
   "metadata": {},
   "source": [
    "The user can input the name of the file to import. The three components are:\n",
    "\n",
    "* (Optional) Path of the file. If no PATH is speficied, then the program reads as it is in the same directory.\n",
    "* File name to be imported\n",
    "* File extenstion. Extensions allowed: .xlsx, .csv, .txt. For .txt files, these have to be tab-delimited files.\n",
    "\n",
    "Example: \n",
    "* With PATH: /path/to/file/myFile.xlsx\n",
    "* Without PATH: myFile.xlsx\n",
    "* Incorrect: myFile\n",
    "\n",
    "The second input text widget (Sheet), specifies the index of the sheet to be read only if the file is an .xlsx file. If the file is not an .xlsx then this input is ignored."
   ]
  },
  {
   "cell_type": "code",
   "execution_count": 7,
   "metadata": {
    "extensions": {
     "jupyter_dashboards": {
      "version": 1,
      "views": {
       "grid_default": {
        "col": 0,
        "height": 4,
        "hidden": false,
        "row": 0,
        "width": 4
       },
       "report_default": {}
      }
     }
    }
   },
   "outputs": [
    {
     "data": {
      "application/vnd.jupyter.widget-view+json": {
       "model_id": "a2f610bf2bda40c5ac8b1be738cb3368",
       "version_major": 2,
       "version_minor": 0
      },
      "text/html": [
       "<p>Failed to display Jupyter Widget of type <code>Text</code>.</p>\n",
       "<p>\n",
       "  If you're reading this message in the Jupyter Notebook or JupyterLab Notebook, it may mean\n",
       "  that the widgets JavaScript is still loading. If this message persists, it\n",
       "  likely means that the widgets JavaScript library is either not installed or\n",
       "  not enabled. See the <a href=\"https://ipywidgets.readthedocs.io/en/stable/user_install.html\">Jupyter\n",
       "  Widgets Documentation</a> for setup instructions.\n",
       "</p>\n",
       "<p>\n",
       "  If you're reading this message in another frontend (for example, a static\n",
       "  rendering on GitHub or <a href=\"https://nbviewer.jupyter.org/\">NBViewer</a>),\n",
       "  it may mean that your frontend doesn't currently support widgets.\n",
       "</p>\n"
      ],
      "text/plain": [
       "Text(value='', description='File:', placeholder='Enter file name with extension')"
      ]
     },
     "metadata": {},
     "output_type": "display_data"
    },
    {
     "data": {
      "application/vnd.jupyter.widget-view+json": {
       "model_id": "109d21f15e9e4a9ab99d4d88c7ff3d7d",
       "version_major": 2,
       "version_minor": 0
      },
      "text/html": [
       "<p>Failed to display Jupyter Widget of type <code>IntText</code>.</p>\n",
       "<p>\n",
       "  If you're reading this message in the Jupyter Notebook or JupyterLab Notebook, it may mean\n",
       "  that the widgets JavaScript is still loading. If this message persists, it\n",
       "  likely means that the widgets JavaScript library is either not installed or\n",
       "  not enabled. See the <a href=\"https://ipywidgets.readthedocs.io/en/stable/user_install.html\">Jupyter\n",
       "  Widgets Documentation</a> for setup instructions.\n",
       "</p>\n",
       "<p>\n",
       "  If you're reading this message in another frontend (for example, a static\n",
       "  rendering on GitHub or <a href=\"https://nbviewer.jupyter.org/\">NBViewer</a>),\n",
       "  it may mean that your frontend doesn't currently support widgets.\n",
       "</p>\n"
      ],
      "text/plain": [
       "IntText(value=0, description='Sheet')"
      ]
     },
     "metadata": {},
     "output_type": "display_data"
    }
   ],
   "source": [
    "#read file\n",
    "fileInput = widgets.Text(\n",
    "    placeholder='Enter file name with extension',\n",
    "    description='File:',\n",
    "    disabled=False\n",
    ")\n",
    "\n",
    "fileInput.set_title  = 'fileInput'\n",
    "\n",
    "#specify sheet index\n",
    "\n",
    "sheet_number = widgets.IntText(\n",
    "    value=0,\n",
    "    description='Sheet',\n",
    "    disabled=False\n",
    ")\n",
    "\n",
    "sheet_number.set_title  = 'sheet_number'\n",
    "\n",
    "#display widgets\n",
    "display(fileInput, sheet_number)"
   ]
  },
  {
   "cell_type": "markdown",
   "metadata": {},
   "source": [
    "# Import file into a python format"
   ]
  },
  {
   "cell_type": "markdown",
   "metadata": {},
   "source": [
    "Convert the input file into a Pandas dataframe.\n",
    "\n",
    "Two dataframes are created:\n",
    "\n",
    "* df: this is the working dataframe which is used for visualisation and analysis. This is also the file that is filtered (subset). After filtering, it can be reverted to the original input dataset.\n",
    "\n",
    "* original_data: this is the imported dataframe and it is not changed throughout the program (as opposed to df). This is the file that df is reverted to whenever requested by the user."
   ]
  },
  {
   "cell_type": "code",
   "execution_count": 8,
   "metadata": {
    "extensions": {
     "jupyter_dashboards": {
      "version": 1,
      "views": {
       "grid_default": {
        "hidden": true
       },
       "report_default": {}
      }
     }
    }
   },
   "outputs": [],
   "source": [
    "#get file name\n",
    "inFile = fileInput.value\n",
    "inFile = inFile.replace(\"\\\\\", \"/\")\n",
    "#get file extension\n",
    "fileExtension = inFile.split(\".\")[-1]\n",
    "#print(fileExtension)\n",
    "\n",
    "if fileExtension == 'xlsx':\n",
    "    df = pd.read_excel(inFile, sheet_number.value)\n",
    "elif fileExtension == 'csv':\n",
    "    df = pd.read_csv(inFile)\n",
    "elif fileExtension == 'txt':\n",
    "    df = pd.read_csv(inFile, sep='\\t', lineterminator='\\r')\n",
    "\n",
    "df = pd.DataFrame(df)\n",
    "original_data = df"
   ]
  },
  {
   "cell_type": "markdown",
   "metadata": {},
   "source": [
    "# Get column names"
   ]
  },
  {
   "cell_type": "markdown",
   "metadata": {},
   "source": [
    "Get the name of all columns in the dataframe.\n",
    "\n",
    "There are three list created:\n",
    "    \n",
    "    1. df_cols: all columns in the dataframe\n",
    "    2. str_cols: only columns which have categorical values\n",
    "    3. numeric_cols: only columns which have numeric values\n",
    "    \n",
    "Important note: if a column has mixed values (numeric and categorical), the program does not work properly."
   ]
  },
  {
   "cell_type": "code",
   "execution_count": 9,
   "metadata": {
    "collapsed": true,
    "extensions": {
     "jupyter_dashboards": {
      "version": 1,
      "views": {
       "grid_default": {
        "hidden": true
       },
       "report_default": {}
      }
     }
    }
   },
   "outputs": [],
   "source": [
    "#get data column names, all, numeric and categorical\n",
    "df_cols = list(df.columns.values)\n",
    "df_cols.insert(0, 'Select')\n",
    "str_cols = list(df.select_dtypes(include=['object']).columns.values)\n",
    "str_cols.insert(0, 'Select')\n",
    "numeric_cols = list(df.select_dtypes(include=['number']).columns.values)\n",
    "numeric_cols.insert(0, 'Select')"
   ]
  },
  {
   "cell_type": "markdown",
   "metadata": {},
   "source": [
    "# Create widgets for the VISUALISE tab"
   ]
  },
  {
   "cell_type": "markdown",
   "metadata": {},
   "source": [
    "These widgets manipulate the visualisation of the data.\n",
    "\n",
    "* headers_x: Name of the column which has the values to be plotted in the X axis\n",
    "* headers_y: Name of the column which has the values to be plotted in the Y axis\n",
    "* colour_headers: Name of the column which has the values to be used for colour subset of the visualisation\n",
    "\n",
    "Important note: The default option shown is the 'Select' option. This option creates an empty selection, i.e. no selection has been made."
   ]
  },
  {
   "cell_type": "code",
   "execution_count": 10,
   "metadata": {
    "collapsed": true,
    "extensions": {
     "jupyter_dashboards": {
      "version": 1,
      "views": {
       "grid_default": {
        "hidden": true
       },
       "report_default": {}
      }
     }
    }
   },
   "outputs": [],
   "source": [
    "\n",
    "headers_x = widgets.Dropdown(\n",
    "            options=df_cols,\n",
    "            value=df_cols[0],\n",
    "            description='X'\n",
    "        )\n",
    "\n",
    "headers_x.set_title  = 'headers_x'\n",
    "\n",
    "headers_y = widgets.Dropdown(\n",
    "            options=df_cols,\n",
    "            value=df_cols[0],\n",
    "            description='Y'\n",
    "        )\n",
    "\n",
    "headers_y.set_title  = 'headers_y'\n",
    "\n",
    "colour_headers = widgets.Dropdown(\n",
    "            options=str_cols,\n",
    "            value=str_cols[0],\n",
    "            description='Colour'\n",
    "        )\n",
    "\n",
    "colour_headers.set_title  = 'colour_headers'"
   ]
  },
  {
   "cell_type": "markdown",
   "metadata": {},
   "source": [
    "# Interaction function for the VISUALISE tab"
   ]
  },
  {
   "cell_type": "markdown",
   "metadata": {},
   "source": [
    "This function is meant to be as intuitive as possible concernign the type of plot. \n",
    "\n",
    "The type of plot is based on the type of values requested for plotting. SO far, there are six options:\n",
    "\n",
    "1. X numeric only: if there is only one column selected and it is NUMERIC, then the plot is a HISTOGRAM.\n",
    "\n",
    "2. X categorical only: if there is only one column selected and it is CATEGORICAL, then the plot is a BAR PLOT.\n",
    "\n",
    "3. X numeric and Y numeric: if X and Y are NUMERIC, then the plot is a SCATTERPLOT.\n",
    "\n",
    "4. X numeric and Y categorical: if X is NUMERIC and Y is CATEGORICAL, then the plot is an inverted VIOLIN PLOT.\n",
    "\n",
    "5. X categorical and Y categorical: if X and Y are CATEGORICAL, then the plot is a MOSAIC PLOT.\n",
    "\n",
    "6. X categorical and Y numeric: if X is CATEGORICAL and Y is numeric, then the plot is a BOXPLOT."
   ]
  },
  {
   "cell_type": "code",
   "execution_count": 11,
   "metadata": {
    "extensions": {
     "jupyter_dashboards": {
      "version": 1,
      "views": {
       "grid_default": {
        "col": 4,
        "height": 13,
        "hidden": false,
        "row": 0,
        "width": 4
       },
       "report_default": {}
      }
     }
    }
   },
   "outputs": [
    {
     "data": {
      "application/vnd.jupyter.widget-view+json": {
       "model_id": "4be02dd2f1aa492cbe5b65038fd1aefa",
       "version_major": 2,
       "version_minor": 0
      },
      "text/html": [
       "<p>Failed to display Jupyter Widget of type <code>interactive</code>.</p>\n",
       "<p>\n",
       "  If you're reading this message in the Jupyter Notebook or JupyterLab Notebook, it may mean\n",
       "  that the widgets JavaScript is still loading. If this message persists, it\n",
       "  likely means that the widgets JavaScript library is either not installed or\n",
       "  not enabled. See the <a href=\"https://ipywidgets.readthedocs.io/en/stable/user_install.html\">Jupyter\n",
       "  Widgets Documentation</a> for setup instructions.\n",
       "</p>\n",
       "<p>\n",
       "  If you're reading this message in another frontend (for example, a static\n",
       "  rendering on GitHub or <a href=\"https://nbviewer.jupyter.org/\">NBViewer</a>),\n",
       "  it may mean that your frontend doesn't currently support widgets.\n",
       "</p>\n"
      ],
      "text/plain": [
       "interactive(children=(Dropdown(description='X', options=('Select', 'Pseudonym', 'Community', 'Age', 'Gender', 'SES', 'TotalN', 'Proportionme', 'Binary', 'Demographic'), value='Select'), Dropdown(description='Y', options=('Select', 'Pseudonym', 'Community', 'Age', 'Gender', 'SES', 'TotalN', 'Proportionme', 'Binary', 'Demographic'), value='Select'), Dropdown(description='Colour', options=('Select', 'Pseudonym', 'Community', 'Age', 'Gender', 'SES', 'Demographic'), value='Select'), Output()), _dom_classes=('widget-interact',))"
      ]
     },
     "metadata": {},
     "output_type": "display_data"
    }
   ],
   "source": [
    "\n",
    "@interact\n",
    "def view_image(headers_x:headers_x, headers_y:headers_y, \n",
    "               colour_headers:colour_headers):\n",
    "\n",
    "        data = df\n",
    "        \n",
    "        #no selection made\n",
    "        #========================================================================\n",
    "        if headers_x == 'Select' and headers_y == 'Select':\n",
    "            sns.set_context(\"notebook\", font_scale=1.1)\n",
    "        \n",
    "        #X selected but noy Y\n",
    "        #========================================================================\n",
    "        elif headers_x != 'Select' and headers_y == 'Select':\n",
    "            \n",
    "            sns.set_context(\"notebook\", font_scale=1.1)\n",
    "            x=headers_x\n",
    "\n",
    "            if df[headers_x].dtype == np.float or df[headers_x].dtype == np.int:\n",
    "                x_type = 'is_numeric'\n",
    "            elif df[headers_x].dtype == np.object:\n",
    "                x_type = 'is_string'\n",
    "            \n",
    "            #plot when x is a string\n",
    "            #--------------------------------------------------------------------\n",
    "            if x_type == 'is_string':\n",
    "                #if colours have not been selected\n",
    "                #................................................................\n",
    "                if colour_headers == 'Select':\n",
    "                    \n",
    "                        g=sns.countplot(x=x, data=data)\n",
    "                        loc, labels = plt.xticks()\n",
    "                        g.set_xticklabels(labels, rotation=90)\n",
    "                        plt.show()\n",
    "                        #sns_plot.savefig(\"output.png\")\n",
    "                #if colours have been selected\n",
    "                #................................................................\n",
    "                else:\n",
    "                        g=sns.countplot(x=x, hue=colour_headers, data=data)\n",
    "                        loc, labels = plt.xticks()\n",
    "                        g.set_xticklabels(labels, rotation=90)\n",
    "                        plt.show()\n",
    "                        \n",
    "            #plot when x is numeric\n",
    "            #--------------------------------------------------------------------\n",
    "            else:\n",
    "                #if colours have not been selected\n",
    "                #................................................................\n",
    "                if colour_headers == 'Select':\n",
    "                    xplot = data[x]\n",
    "                    sns.distplot(xplot)\n",
    "                    plt.show()\n",
    "                #if colours have been selected   \n",
    "                #................................................................\n",
    "                else:\n",
    "                    g = sns.FacetGrid(data, hue=colour_headers)\n",
    "                    g = g.map(sns.distplot, x)\n",
    "                    plt.show()\n",
    "        #if only Y has been selected\n",
    "        #========================================================================\n",
    "        elif headers_x == 'Select' and headers_y != 'Select':\n",
    "            sns.set_context(\"notebook\", font_scale=1.1)\n",
    "        #if both X and Y have been selected\n",
    "        \n",
    "        #========================================================================\n",
    "        elif headers_x != 'Select' and headers_y != 'Select':\n",
    "            x=headers_x\n",
    "            y=headers_y\n",
    "\n",
    "            if df[headers_x].dtype == np.float or df[headers_x].dtype == np.int:\n",
    "                x_type = 'is_numeric'\n",
    "            elif df[headers_x].dtype == np.object:\n",
    "                x_type = 'is_string'\n",
    "\n",
    "            if df[headers_y].dtype == np.float or df[headers_y].dtype == np.int:\n",
    "                y_type = 'is_numeric'\n",
    "            elif df[headers_y].dtype == np.object:\n",
    "                y_type = 'is_string'\n",
    "                \n",
    "            sns.set_context(\"notebook\", font_scale=1.1)\n",
    "            sns.set_style(\"ticks\")\n",
    "            \n",
    "            #Numeric vs Numeric\n",
    "            #------------------------------------------------------------------------\n",
    "            if x_type == 'is_numeric' and y_type == 'is_numeric':\n",
    "                # Create scatterplot of dataframe\n",
    "                #if colours have not been selected\n",
    "                #................................................................\n",
    "                if colour_headers == 'Select':\n",
    "                    g = sns.lmplot(x=x, # Horizontal axis\n",
    "                           y=y, # Vertical axis\n",
    "                           data=data, # Data source\n",
    "                           fit_reg=False, # Don't fix a regression line\n",
    "                           scatter_kws={\"marker\": \"D\"},\n",
    "                          legend = True)\n",
    "                    plt.show()\n",
    "                    \n",
    "                #if colours have been selected\n",
    "                #................................................................\n",
    "                else:\n",
    "                    g = sns.lmplot(x=x, # Horizontal axis\n",
    "                           y=y, # Vertical axis\n",
    "                           data=data, # Data source\n",
    "                           fit_reg=False, # Don't fix a regression line\n",
    "                           hue=colour_headers, # Set color\n",
    "                           scatter_kws={\"marker\": \"D\"},# S marker size\n",
    "                          legend = True)\n",
    "                    plt.show()\n",
    "                    \n",
    "            #Numeric vs String\n",
    "            #------------------------------------------------------------------------\n",
    "            elif x_type == 'is_numeric' and y_type == 'is_string':\n",
    "                sns.set_style(\"ticks\")\n",
    "                \n",
    "                #if colours have not been selected\n",
    "                #................................................................\n",
    "                if colour_headers == 'Select':\n",
    "                    g=sns.violinplot(x=x, y=y, data=data)\n",
    "                    plt.show()\n",
    "                #if colours have been selected   \n",
    "                #................................................................\n",
    "                else:\n",
    "                    g=sns.violinplot(x=x, y=y, hue=colour_headers, data=data)\n",
    "                    plt.show()\n",
    "            #String vs Numeric\n",
    "            #------------------------------------------------------------------------\n",
    "            elif x_type == 'is_string' and y_type == 'is_numeric':\n",
    "                \n",
    "                #if colours have not been selected\n",
    "                #................................................................\n",
    "                if colour_headers == 'Select':\n",
    "                    sns.set_style(\"ticks\")\n",
    "                    g=sns.boxplot(x=x, y=y, data=data)\n",
    "                    plt.show()\n",
    "                #if colours have been selected   \n",
    "                #................................................................\n",
    "                else:\n",
    "                    sns.set_style(\"ticks\")\n",
    "                    g=sns.boxplot(x=x, y=y, hue=colour_headers, data=data)\n",
    "                    plt.show()\n",
    "                    \n",
    "\n",
    "            #String vs String\n",
    "            #------------------------------------------------------------------------\n",
    "            elif x_type == 'is_string' and y_type == 'is_string':\n",
    "                if headers_x != headers_y:\n",
    "                    g=mosaic(data, [x, y])\n",
    "                    plt.show()\n",
    "                elif headers_x == headers_y:\n",
    "                    g=sns.countplot(x=x, data=data)\n",
    "                    loc, labels = plt.xticks()\n",
    "                    g.set_xticklabels(labels, rotation=90)\n",
    "                    plt.show()\n",
    "\n",
    "        "
   ]
  },
  {
   "cell_type": "markdown",
   "metadata": {},
   "source": [
    "# Function for saving the created plots"
   ]
  },
  {
   "cell_type": "markdown",
   "metadata": {},
   "source": [
    "This function replicates the plot in the VISUALISATION tab and saves the plot to a PNG file in the same direcory of the notebook."
   ]
  },
  {
   "cell_type": "code",
   "execution_count": 12,
   "metadata": {
    "collapsed": true,
    "extensions": {
     "jupyter_dashboards": {
      "version": 1,
      "views": {
       "grid_default": {
        "hidden": true
       },
       "report_default": {}
      }
     }
    }
   },
   "outputs": [],
   "source": [
    "\n",
    "def save_image(b):\n",
    "\n",
    "        data = df\n",
    "        \n",
    "        #no selection made\n",
    "        #========================================================================\n",
    "        if headers_x.value == 'Select' and headers_y.value == 'Select':\n",
    "            sns.set_context(\"notebook\", font_scale=1.1)\n",
    "        \n",
    "        #X selected but noy Y\n",
    "        #========================================================================\n",
    "        elif headers_x.value != 'Select' and headers_y.value == 'Select':\n",
    "            sns.set_context(\"notebook\", font_scale=1.1)\n",
    "            x=headers_x.value\n",
    "\n",
    "            if df[headers_x.value].dtype == np.float or df[headers_x.value].dtype == np.int:\n",
    "                x_type = 'is_numeric'\n",
    "            elif df[headers_x.value].dtype == np.object:\n",
    "                x_type = 'is_string'\n",
    "            \n",
    "            #plot when x is a string\n",
    "            #--------------------------------------------------------------------\n",
    "            if x_type == 'is_string':\n",
    "                #if colours have not been selected\n",
    "                #................................................................\n",
    "                if colour_headers.value == 'Select':\n",
    "                    \n",
    "                        g=sns.countplot(x=x, data=data)\n",
    "                        loc, labels = plt.xticks()\n",
    "                        g.set_xticklabels(labels, rotation=90)\n",
    "                        g.figure.savefig(\"xCategoricalNoColour.png\")\n",
    "                        plt.close()\n",
    "                #if colours have been selected\n",
    "                #................................................................\n",
    "                else:\n",
    "                        g=sns.countplot(x=x, hue=colour_headers.value, data=data)\n",
    "                        loc, labels = plt.xticks()\n",
    "                        g.set_xticklabels(labels, rotation=90)\n",
    "                        g.figure.savefig(\"xCategoricalColour.png\")\n",
    "                        plt.close()\n",
    "                        #plt.show()\n",
    "                        \n",
    "            #plot when x is numeric\n",
    "            #--------------------------------------------------------------------\n",
    "            else:\n",
    "                #if colours have not been selected\n",
    "                #................................................................\n",
    "                if colour_headers.value == 'Select':\n",
    "                    xplot = data[x]\n",
    "                    g=sns.distplot(xplot)\n",
    "                    g.figure.savefig(\"xNumericNoColour.png\")\n",
    "                    plt.close()\n",
    "                    #plt.show()\n",
    "                #if colours have been selected   \n",
    "                #................................................................\n",
    "                else:\n",
    "                    g = sns.FacetGrid(data, hue=colour_headers.value)\n",
    "                    g = g.map(sns.distplot, x)\n",
    "                    g.savefig(\"xNumericColour.png\")\n",
    "                    plt.close()\n",
    "                    #plt.show()\n",
    "        #if only Y has been selected\n",
    "        #========================================================================\n",
    "        elif headers_x.value == 'Select' and headers_y.value != 'Select':\n",
    "            sns.set_context(\"notebook\", font_scale=1.1)\n",
    "        #if both X and Y have been selected\n",
    "        \n",
    "        #========================================================================\n",
    "        elif headers_x.value != 'Select' and headers_y.value != 'Select':\n",
    "            x=headers_x.value\n",
    "            y=headers_y.value\n",
    "\n",
    "            if df[headers_x.value].dtype == np.float or df[headers_x.value].dtype == np.int:\n",
    "                x_type = 'is_numeric'\n",
    "            elif df[headers_x.value].dtype == np.object:\n",
    "                x_type = 'is_string'\n",
    "\n",
    "            if df[headers_y.value].dtype == np.float or df[headers_y.value].dtype == np.int:\n",
    "                y_type = 'is_numeric'\n",
    "            elif df[headers_y.value].dtype == np.object:\n",
    "                y_type = 'is_string'\n",
    "                \n",
    "            sns.set_context(\"notebook\", font_scale=1.1)\n",
    "            sns.set_style(\"ticks\")\n",
    "            \n",
    "            #Numeric vs Numeric\n",
    "            #------------------------------------------------------------------------\n",
    "            if x_type == 'is_numeric' and y_type == 'is_numeric':\n",
    "                # Create scatterplot of dataframe\n",
    "                #if colours have not been selected\n",
    "                #................................................................\n",
    "                if colour_headers.value == 'Select':\n",
    "                    g = sns.lmplot(x=x, # Horizontal axis\n",
    "                           y=y, # Vertical axis\n",
    "                           data=data, # Data source\n",
    "                           fit_reg=False, # Don't fix a regression line\n",
    "                           scatter_kws={\"marker\": \"D\", # Set marker style\n",
    "                                        \"s\": pointSize.value,\n",
    "                                        \"alpha\":pointAlpha.value},# S marker size\n",
    "                          legend = True)\n",
    "                    g.savefig(\"NumericVsNumericNoColour.png\")\n",
    "                    plt.close()\n",
    "                    #plt.show()\n",
    "                    \n",
    "                #if colours have been selected\n",
    "                #................................................................\n",
    "                else:\n",
    "                    g = sns.lmplot(x=x, # Horizontal axis\n",
    "                           y=y, # Vertical axis\n",
    "                           data=data, # Data source\n",
    "                           fit_reg=False, # Don't fix a regression line\n",
    "                           hue=colour_headers.value, # Set color\n",
    "                           scatter_kws={\"marker\": \"D\", # Set marker style\n",
    "                                        \"s\": pointSize.value,\n",
    "                                        \"alpha\":pointAlpha.value},# S marker size\n",
    "                          legend = True)\n",
    "                    g.savefig(\"NumericVsNumericColour.png\")\n",
    "                    plt.close()\n",
    "                    #plt.show()\n",
    "                    \n",
    "            #Numeric vs String\n",
    "            #------------------------------------------------------------------------\n",
    "            elif x_type == 'is_numeric' and y_type == 'is_string':\n",
    "                sns.set_style(\"ticks\")\n",
    "                g=sns.violinplot(x=x, y=y, data=data)\n",
    "                g.figure.savefig(\"NumericVsCategorical.png\")\n",
    "                plt.close()\n",
    "                #plt.show()\n",
    "            #String vs Numeric\n",
    "            #------------------------------------------------------------------------\n",
    "            elif x_type == 'is_string' and y_type == 'is_numeric':\n",
    "                sns.set_style(\"ticks\")\n",
    "                g=sns.boxplot(x=x, y=y, data=data)\n",
    "                g.figure.savefig(\"CategoricalVsNumeric.png\")\n",
    "                plt.close()\n",
    "                #plt.show()\n",
    "            #String vs String\n",
    "            #------------------------------------------------------------------------\n",
    "            elif x_type == 'is_string' and y_type == 'is_string':\n",
    "                plotting = mosaic(data, [x, y])\n",
    "                plt.savefig('categoricalVsCategorical.png')\n",
    "                plt.close()\n",
    "\n",
    "        "
   ]
  },
  {
   "cell_type": "markdown",
   "metadata": {},
   "source": [
    "# Create widget button for saving plots in the VISUALISE tab"
   ]
  },
  {
   "cell_type": "markdown",
   "metadata": {},
   "source": [
    "This button widget controlls the saving of the plot. When it is clicked, it calles the save_image function."
   ]
  },
  {
   "cell_type": "code",
   "execution_count": 13,
   "metadata": {
    "extensions": {
     "jupyter_dashboards": {
      "version": 1,
      "views": {
       "grid_default": {
        "col": 8,
        "height": 4,
        "hidden": false,
        "row": 0,
        "width": 4
       },
       "report_default": {}
      }
     }
    }
   },
   "outputs": [
    {
     "data": {
      "application/vnd.jupyter.widget-view+json": {
       "model_id": "ee30c6b1458e40e797001e438367d91f",
       "version_major": 2,
       "version_minor": 0
      },
      "text/html": [
       "<p>Failed to display Jupyter Widget of type <code>Button</code>.</p>\n",
       "<p>\n",
       "  If you're reading this message in the Jupyter Notebook or JupyterLab Notebook, it may mean\n",
       "  that the widgets JavaScript is still loading. If this message persists, it\n",
       "  likely means that the widgets JavaScript library is either not installed or\n",
       "  not enabled. See the <a href=\"https://ipywidgets.readthedocs.io/en/stable/user_install.html\">Jupyter\n",
       "  Widgets Documentation</a> for setup instructions.\n",
       "</p>\n",
       "<p>\n",
       "  If you're reading this message in another frontend (for example, a static\n",
       "  rendering on GitHub or <a href=\"https://nbviewer.jupyter.org/\">NBViewer</a>),\n",
       "  it may mean that your frontend doesn't currently support widgets.\n",
       "</p>\n"
      ],
      "text/plain": [
       "Button(description='Save Plot', style=ButtonStyle())"
      ]
     },
     "metadata": {},
     "output_type": "display_data"
    }
   ],
   "source": [
    "\n",
    "\n",
    "button = widgets.Button(description=\"Save Plot\")\n",
    "button.on_click(save_image)\n",
    "display(button)"
   ]
  },
  {
   "cell_type": "markdown",
   "metadata": {},
   "source": [
    "# Create widgets for the DATA tab "
   ]
  },
  {
   "cell_type": "markdown",
   "metadata": {},
   "source": [
    "This widget controls the display of the data as input."
   ]
  },
  {
   "cell_type": "code",
   "execution_count": 14,
   "metadata": {
    "collapsed": true,
    "extensions": {
     "jupyter_dashboards": {
      "version": 1,
      "views": {
       "grid_default": {
        "hidden": true
       },
       "report_default": {}
      }
     }
    }
   },
   "outputs": [],
   "source": [
    "\n",
    "view_data = widgets.Dropdown(\n",
    "            options=['df', 'original_data'],\n",
    "            value='df',\n",
    "            description='Data'\n",
    "        )\n",
    "\n",
    "view_data.set_title  = 'view_data'"
   ]
  },
  {
   "cell_type": "markdown",
   "metadata": {},
   "source": [
    "# Interaction function for the DATA tab"
   ]
  },
  {
   "cell_type": "markdown",
   "metadata": {},
   "source": [
    "This function displays the input data."
   ]
  },
  {
   "cell_type": "code",
   "execution_count": 15,
   "metadata": {
    "extensions": {
     "jupyter_dashboards": {
      "version": 1,
      "views": {
       "grid_default": {
        "col": 0,
        "height": 27,
        "hidden": false,
        "row": 37,
        "width": 12
       },
       "report_default": {}
      }
     }
    }
   },
   "outputs": [
    {
     "data": {
      "application/vnd.jupyter.widget-view+json": {
       "model_id": "c1d79d466ab1412b8e3f5fc6eeec39be",
       "version_major": 2,
       "version_minor": 0
      },
      "text/html": [
       "<p>Failed to display Jupyter Widget of type <code>interactive</code>.</p>\n",
       "<p>\n",
       "  If you're reading this message in the Jupyter Notebook or JupyterLab Notebook, it may mean\n",
       "  that the widgets JavaScript is still loading. If this message persists, it\n",
       "  likely means that the widgets JavaScript library is either not installed or\n",
       "  not enabled. See the <a href=\"https://ipywidgets.readthedocs.io/en/stable/user_install.html\">Jupyter\n",
       "  Widgets Documentation</a> for setup instructions.\n",
       "</p>\n",
       "<p>\n",
       "  If you're reading this message in another frontend (for example, a static\n",
       "  rendering on GitHub or <a href=\"https://nbviewer.jupyter.org/\">NBViewer</a>),\n",
       "  it may mean that your frontend doesn't currently support widgets.\n",
       "</p>\n"
      ],
      "text/plain": [
       "interactive(children=(Dropdown(description='Data', options=('df', 'original_data'), value='df'), Output()), _dom_classes=('widget-interact',))"
      ]
     },
     "metadata": {},
     "output_type": "display_data"
    }
   ],
   "source": [
    "\n",
    "@interact\n",
    "def view_Data(view_data:view_data):\n",
    "    data = globals()[view_data]\n",
    "    display(data)"
   ]
  },
  {
   "cell_type": "markdown",
   "metadata": {},
   "source": [
    "# Create widgets for the PIVOT tab"
   ]
  },
  {
   "cell_type": "markdown",
   "metadata": {},
   "source": [
    "This widget controls the selection of the data to be manipulated in the Pivot tab."
   ]
  },
  {
   "cell_type": "code",
   "execution_count": 16,
   "metadata": {
    "collapsed": true,
    "extensions": {
     "jupyter_dashboards": {
      "version": 1,
      "views": {
       "grid_default": {
        "hidden": true
       },
       "report_default": {}
      }
     }
    }
   },
   "outputs": [],
   "source": [
    " \n",
    "plot_data = widgets.Dropdown(\n",
    "            options=['df', 'original_data'],\n",
    "            value='df',\n",
    "            description='Data'\n",
    "        )\n",
    "\n",
    "plot_data.set_title  = 'plot_data'"
   ]
  },
  {
   "cell_type": "markdown",
   "metadata": {},
   "source": [
    "# Interaction function for the PIVOT tab"
   ]
  },
  {
   "cell_type": "markdown",
   "metadata": {},
   "source": [
    "Function to manipulate data in the Pivot tab. This is manipulated through the library pivottablejs. Columns can be dragged into the X or Y axes and a pivot table is created. There are further options to plot the created pivot tables."
   ]
  },
  {
   "cell_type": "code",
   "execution_count": 17,
   "metadata": {
    "extensions": {
     "jupyter_dashboards": {
      "version": 1,
      "views": {
       "grid_default": {
        "col": 0,
        "height": 19,
        "hidden": false,
        "row": 64,
        "width": 4
       },
       "report_default": {}
      }
     }
    }
   },
   "outputs": [
    {
     "data": {
      "application/vnd.jupyter.widget-view+json": {
       "model_id": "01ed99ada75040aface56e72c0bc158b",
       "version_major": 2,
       "version_minor": 0
      },
      "text/html": [
       "<p>Failed to display Jupyter Widget of type <code>interactive</code>.</p>\n",
       "<p>\n",
       "  If you're reading this message in the Jupyter Notebook or JupyterLab Notebook, it may mean\n",
       "  that the widgets JavaScript is still loading. If this message persists, it\n",
       "  likely means that the widgets JavaScript library is either not installed or\n",
       "  not enabled. See the <a href=\"https://ipywidgets.readthedocs.io/en/stable/user_install.html\">Jupyter\n",
       "  Widgets Documentation</a> for setup instructions.\n",
       "</p>\n",
       "<p>\n",
       "  If you're reading this message in another frontend (for example, a static\n",
       "  rendering on GitHub or <a href=\"https://nbviewer.jupyter.org/\">NBViewer</a>),\n",
       "  it may mean that your frontend doesn't currently support widgets.\n",
       "</p>\n"
      ],
      "text/plain": [
       "interactive(children=(Dropdown(description='Data', options=('df', 'original_data'), value='df'), Output()), _dom_classes=('widget-interact',))"
      ]
     },
     "metadata": {},
     "output_type": "display_data"
    }
   ],
   "source": [
    "\n",
    "@interact\n",
    "def view_pivotTable(plot_data:plot_data):\n",
    "    data = globals()[plot_data]\n",
    "    display(pivot_ui(data))"
   ]
  },
  {
   "cell_type": "markdown",
   "metadata": {},
   "source": [
    "# Function to identidy the column type (string or numeric)"
   ]
  },
  {
   "cell_type": "markdown",
   "metadata": {},
   "source": [
    "Function to identify whether values in a specific column are nuremic or categorical."
   ]
  },
  {
   "cell_type": "code",
   "execution_count": 18,
   "metadata": {
    "collapsed": true,
    "extensions": {
     "jupyter_dashboards": {
      "version": 1,
      "views": {
       "grid_default": {
        "hidden": true
       },
       "report_default": {}
      }
     }
    }
   },
   "outputs": [],
   "source": [
    "\n",
    "def is_number(s):\n",
    "    try:\n",
    "        float(s)\n",
    "        return True\n",
    "    except ValueError:\n",
    "        pass\n",
    " \n",
    "    try:\n",
    "        import unicodedata\n",
    "        unicodedata.numeric(s)\n",
    "        return True\n",
    "    except (TypeError, ValueError):\n",
    "        pass\n",
    " \n",
    "    return False"
   ]
  },
  {
   "cell_type": "markdown",
   "metadata": {},
   "source": [
    "# Create widgets for the FILTER tab "
   ]
  },
  {
   "cell_type": "markdown",
   "metadata": {},
   "source": [
    "Widgets to manioulate the Filter tab. There are six widgets:\n",
    "\n",
    "1. headers_x: Name of the column which has the values to be filtered.\n",
    "2. filter_options: options for the type of filtering:\n",
    "    * equals: dataframe keeps value(s) from the headers_x selection which are equal to the value(s) entered in the filter_input widget.\n",
    "    * notEqual: dataframe keeps value(s) from the headers_x selection which are NOT equal to the value(s) entered in the filter_input widget.\n",
    "    * largerThan: dataframe keeps value(s) from the headers_x selection which are larger than the value(s) entered in the filter_input widget.\n",
    "    * lowerThan: dataframe keeps value(s) from the headers_x selection which are lower than the value(s) entered in the filter_input widget.\n",
    "3. filter_input: value to be filtered in the column selected at the headers_x.\n",
    "4. manual_filter: this option is used if the user enters the filter by typing it instead of using the widgets. The advantage of a manual filter is that it can be as specific as desired by the user. For example, user can filter many columns at the same time.\n",
    "5. overwrite_data: if the data has been filtered, the user has the option to overwrite the working dataframe and run the visualisation/analysis on this.\n",
    "6. restore_data: if the data has been filtered and overwritten, the user has the option to restore the working data to the original input data."
   ]
  },
  {
   "cell_type": "code",
   "execution_count": 19,
   "metadata": {
    "collapsed": true,
    "extensions": {
     "jupyter_dashboards": {
      "version": 1,
      "views": {
       "grid_default": {
        "hidden": true
       },
       "report_default": {}
      }
     }
    }
   },
   "outputs": [],
   "source": [
    "\n",
    "headers_x_filter = widgets.Dropdown(\n",
    "            options=df_cols,\n",
    "            value=df_cols[0],\n",
    "            description='Filter Column'\n",
    "        )\n",
    "\n",
    "headers_x_filter.set_title  = 'headers_x_filter'\n",
    "\n",
    "filter_options = widgets.Dropdown(\n",
    "            options=['equals', 'notEqual', 'largerThan', 'lowerThan'],\n",
    "            value='equals',\n",
    "            description='Filter options'\n",
    "        )\n",
    "\n",
    "filter_options.set_title  = 'filter_options'\n",
    "\n",
    "filter_input = widgets.Text(\n",
    "    value='Select',\n",
    "    placeholder='Enter filter condition',\n",
    "    description='Condition',\n",
    "    disabled=False\n",
    ")\n",
    "\n",
    "filter_input.set_title  = 'filter_input'\n",
    "\n",
    "manual_filter = widgets.Text(\n",
    "    value='',\n",
    "    placeholder='Type filter',\n",
    "    description='Manual filter',\n",
    "    disabled=False\n",
    ")\n",
    "\n",
    "manual_filter.set_title  = 'manual_filter'\n",
    "\n",
    "overwrite_data = widgets.RadioButtons(\n",
    "    options=['no', 'yes'],\n",
    "    value='no',\n",
    "    description='Overwrite',\n",
    "    disabled=False\n",
    ")\n",
    "\n",
    "overwrite_data.set_title = 'overwrite_data'\n",
    "\n",
    "restore_data = widgets.RadioButtons(\n",
    "    options=['no', 'yes'],\n",
    "    value='no',\n",
    "    description='Restore',\n",
    "    disabled=False,\n",
    "    \n",
    ")\n",
    "\n",
    "restore_data.set_title = 'restore_data'"
   ]
  },
  {
   "cell_type": "markdown",
   "metadata": {},
   "source": [
    "# Interaction function for the FILTER tab"
   ]
  },
  {
   "cell_type": "markdown",
   "metadata": {},
   "source": [
    "Function to filter data based on user's requests"
   ]
  },
  {
   "cell_type": "code",
   "execution_count": 20,
   "metadata": {
    "extensions": {
     "jupyter_dashboards": {
      "version": 1,
      "views": {
       "grid_default": {
        "col": 0,
        "height": 12,
        "hidden": false,
        "row": 13,
        "width": 12
       },
       "report_default": {}
      }
     }
    }
   },
   "outputs": [
    {
     "data": {
      "application/vnd.jupyter.widget-view+json": {
       "model_id": "3e067a695483465ba49a8c5aef3562a2",
       "version_major": 2,
       "version_minor": 0
      },
      "text/html": [
       "<p>Failed to display Jupyter Widget of type <code>interactive</code>.</p>\n",
       "<p>\n",
       "  If you're reading this message in the Jupyter Notebook or JupyterLab Notebook, it may mean\n",
       "  that the widgets JavaScript is still loading. If this message persists, it\n",
       "  likely means that the widgets JavaScript library is either not installed or\n",
       "  not enabled. See the <a href=\"https://ipywidgets.readthedocs.io/en/stable/user_install.html\">Jupyter\n",
       "  Widgets Documentation</a> for setup instructions.\n",
       "</p>\n",
       "<p>\n",
       "  If you're reading this message in another frontend (for example, a static\n",
       "  rendering on GitHub or <a href=\"https://nbviewer.jupyter.org/\">NBViewer</a>),\n",
       "  it may mean that your frontend doesn't currently support widgets.\n",
       "</p>\n"
      ],
      "text/plain": [
       "interactive(children=(Dropdown(description='Filter Column', options=('Select', 'Pseudonym', 'Community', 'Age', 'Gender', 'SES', 'TotalN', 'Proportionme', 'Binary', 'Demographic'), value='Select'), Dropdown(description='Filter options', options=('equals', 'notEqual', 'largerThan', 'lowerThan'), value='equals'), Text(value='Select', description='Condition', placeholder='Enter filter condition'), Text(value='', description='Manual filter', placeholder='Type filter'), RadioButtons(description='Overwrite', options=('no', 'yes'), value='no'), RadioButtons(description='Restore', options=('no', 'yes'), value='no'), Output()), _dom_classes=('widget-interact',))"
      ]
     },
     "metadata": {},
     "output_type": "display_data"
    }
   ],
   "source": [
    "\n",
    "@interact\n",
    "def view_filterTable(headers_x_filter:headers_x_filter,\n",
    "                     filter_options:filter_options,\n",
    "                     filter_input:filter_input,\n",
    "                     manual_filter:manual_filter,\n",
    "                     overwrite_data:overwrite_data,\n",
    "                     restore_data:restore_data):\n",
    "        \n",
    "        global df\n",
    "        \n",
    "        if restore_data == 'yes':\n",
    "            df = original_data\n",
    "        \n",
    "        data = df\n",
    "        \n",
    "        filter_value = 'noInput'\n",
    "        \n",
    "        if manual_filter != '':\n",
    "            filter_value = 'input'\n",
    "                \n",
    "        if filter_value == 'input':\n",
    "            inside_df = data.query(manual_filter)\n",
    "            display(inside_df)\n",
    "            \n",
    "            if overwrite_data == 'yes':\n",
    "                df = inside_df\n",
    "        else: \n",
    "            if is_number(filter_input):\n",
    "                filter_input = float(filter_input)\n",
    "\n",
    "            if headers_x_filter != 'Select' and filter_input != 'Select':\n",
    "                if filter_options == 'equals':\n",
    "                    inside_df = data[data[headers_x_filter] == filter_input]\n",
    "                elif filter_options == 'notEqual':\n",
    "                    inside_df = data[data[headers_x_filter] != filter_input]\n",
    "                elif filter_options == 'largerThan':\n",
    "                    inside_df = data[data[headers_x_filter] > filter_input]\n",
    "                elif filter_options == 'lowerThan':\n",
    "                    inside_df = data[data[headers_x_filter] < filter_input]\n",
    "\n",
    "                display(inside_df)\n",
    "                if overwrite_data == 'yes':\n",
    "                    df = inside_df"
   ]
  },
  {
   "cell_type": "markdown",
   "metadata": {},
   "source": [
    "# Create widgets for the CONTINGENCY tables tab "
   ]
  },
  {
   "cell_type": "markdown",
   "metadata": {},
   "source": [
    "Widgets to manipulate the Contingency tables tab. There are four widgets:\n",
    "\n",
    "1. summary_type: the type of summary for the contingency table\n",
    "2. row_headers: name of columns containing the values to be plotted in the rows of the table\n",
    "3. column_headers: name of columns containing the values to be plotted in the columns of the table\n",
    "3. column_headers_extra: name of columns containing the values to be plotted in the columns of the table when there are three variables to be compared"
   ]
  },
  {
   "cell_type": "code",
   "execution_count": 21,
   "metadata": {
    "collapsed": true,
    "extensions": {
     "jupyter_dashboards": {
      "version": 1,
      "views": {
       "grid_default": {
        "hidden": true
       },
       "report_default": {}
      }
     }
    }
   },
   "outputs": [],
   "source": [
    "\n",
    "summary_type = widgets.Dropdown(\n",
    "            options=['Original',\n",
    "                     'Fitted Values',\n",
    "                     'Residuals',\n",
    "                     'p_value',\n",
    "                     'chi2_contributions'],\n",
    "            value='Original',\n",
    "            description='Type'\n",
    "        )\n",
    "\n",
    "summary_type.set_title  = 'summary_type'\n",
    "\n",
    "row_headers = widgets.Dropdown(\n",
    "            options=df_cols,\n",
    "            value=df_cols[0],\n",
    "            description='Row'\n",
    "        )\n",
    "\n",
    "row_headers.set_title  = 'row_headers'\n",
    "\n",
    "column_headers = widgets.Dropdown(\n",
    "            options=df_cols,\n",
    "            value=df_cols[0],\n",
    "            description='Column'\n",
    "        )\n",
    "\n",
    "column_headers.set_title  = 'column_headers'\n",
    "\n",
    "column_headers_extra = widgets.Dropdown(\n",
    "            options=df_cols,\n",
    "            value=df_cols[0],\n",
    "            description='Column 2'\n",
    "        )\n",
    "\n",
    "column_headers_extra.set_title  = 'column_headers_extra'"
   ]
  },
  {
   "cell_type": "markdown",
   "metadata": {},
   "source": [
    "# Interaction function for the CONTINGENCY tab"
   ]
  },
  {
   "cell_type": "markdown",
   "metadata": {},
   "source": [
    "Function to display the Contingency tables"
   ]
  },
  {
   "cell_type": "code",
   "execution_count": 22,
   "metadata": {
    "extensions": {
     "jupyter_dashboards": {
      "version": 1,
      "views": {
       "grid_default": {
        "col": 0,
        "height": 5,
        "hidden": false,
        "row": 4,
        "width": 4
       },
       "report_default": {}
      }
     }
    },
    "scrolled": true
   },
   "outputs": [
    {
     "data": {
      "application/vnd.jupyter.widget-view+json": {
       "model_id": "ef1a3dda9ac44d5ca167cee588bcc991",
       "version_major": 2,
       "version_minor": 0
      },
      "text/html": [
       "<p>Failed to display Jupyter Widget of type <code>interactive</code>.</p>\n",
       "<p>\n",
       "  If you're reading this message in the Jupyter Notebook or JupyterLab Notebook, it may mean\n",
       "  that the widgets JavaScript is still loading. If this message persists, it\n",
       "  likely means that the widgets JavaScript library is either not installed or\n",
       "  not enabled. See the <a href=\"https://ipywidgets.readthedocs.io/en/stable/user_install.html\">Jupyter\n",
       "  Widgets Documentation</a> for setup instructions.\n",
       "</p>\n",
       "<p>\n",
       "  If you're reading this message in another frontend (for example, a static\n",
       "  rendering on GitHub or <a href=\"https://nbviewer.jupyter.org/\">NBViewer</a>),\n",
       "  it may mean that your frontend doesn't currently support widgets.\n",
       "</p>\n"
      ],
      "text/plain": [
       "interactive(children=(Dropdown(description='Type', options=('Original', 'Fitted Values', 'Residuals', 'p_value', 'chi2_contributions'), value='Original'), Dropdown(description='Row', options=('Select', 'Pseudonym', 'Community', 'Age', 'Gender', 'SES', 'TotalN', 'Proportionme', 'Binary', 'Demographic'), value='Select'), Dropdown(description='Column', options=('Select', 'Pseudonym', 'Community', 'Age', 'Gender', 'SES', 'TotalN', 'Proportionme', 'Binary', 'Demographic'), value='Select'), Dropdown(description='Column 2', options=('Select', 'Pseudonym', 'Community', 'Age', 'Gender', 'SES', 'TotalN', 'Proportionme', 'Binary', 'Demographic'), value='Select'), Output()), _dom_classes=('widget-interact',))"
      ]
     },
     "metadata": {},
     "output_type": "display_data"
    }
   ],
   "source": [
    "\n",
    "@interact\n",
    "def view_Contingency(summary_type:summary_type,\n",
    "                     row_headers:row_headers,\n",
    "                     column_headers:column_headers,\n",
    "                     column_headers_extra:column_headers_extra):\n",
    "\n",
    "        data = df\n",
    "        \n",
    "        if row_headers != 'Select' and column_headers != 'Select' and column_headers_extra == 'Select':\n",
    "            table = sm.stats.Table.from_data(data[[row_headers, column_headers]])\n",
    "            \n",
    "            if summary_type == 'Original':\n",
    "                print(table.table_orig)\n",
    "            elif summary_type == 'Fitted Values':\n",
    "                print(table.fittedvalues)\n",
    "            elif summary_type == 'Residuals':\n",
    "                print(table.resid_pearson)\n",
    "            elif summary_type == 'p_value':\n",
    "                rslt = table.test_nominal_association()\n",
    "                print(rslt.pvalue)\n",
    "            elif summary_type == 'chi2_contributions':\n",
    "                print(table.chi2_contribs)\n",
    "    \n",
    "        elif row_headers != 'Select' and column_headers != 'Select' and column_headers_extra != 'Select':\n",
    "            table = pd.crosstab(index=data[row_headers], \n",
    "                             columns=[data[column_headers],\n",
    "                                      data[column_headers_extra]],\n",
    "                             margins=True)\n",
    "            \n",
    "            if summary_type == 'Original':\n",
    "                print(table)\n",
    "            else:\n",
    "                print(table.T/table[\"All\"])\n",
    "                \n",
    "            \n",
    "            \n",
    "            \n",
    "                "
   ]
  },
  {
   "cell_type": "markdown",
   "metadata": {},
   "source": [
    "# Create widgets for the ANALYSIS tab "
   ]
  },
  {
   "cell_type": "markdown",
   "metadata": {},
   "source": [
    "Widgets to control the Analysis tab. There are five widgets:\n",
    "\n",
    "1. model_type: the name of the model for the analysis. These can be grouped in three categories: linear models, generalized linear models and mixed effects models.\n",
    "2. headers_dependent: name of columns containing the values to be entered as the dependent variable in the formula\n",
    "3. headers_factor: name of columns containing the values to be entered as the independent factor in the formula\n",
    "4. headers_groups: name of columns containing the values to be entered as the random factors in the formula. This only applies to mixed effects models\n",
    "5. analysis_formula: the user is given the option to write the analysis formula. This overwrites any input in the widgets."
   ]
  },
  {
   "cell_type": "code",
   "execution_count": 23,
   "metadata": {
    "collapsed": true,
    "extensions": {
     "jupyter_dashboards": {
      "version": 1,
      "views": {
       "grid_default": {
        "hidden": true
       },
       "report_default": {}
      }
     }
    }
   },
   "outputs": [],
   "source": [
    "\n",
    "model_type = widgets.Dropdown(\n",
    "            options=['Ordinary Least Squares',\n",
    "                     'Generalized Linear Models',\n",
    "                     'Robust Linear Models',\n",
    "                     'Linear Mixed Effects Models',\n",
    "                     'Discrete - Regression with binary - Logit',\n",
    "                     'Discrete - Regression with binary - Probit',\n",
    "                     'Discrete - Regression with nominal - MNLogit',\n",
    "                     'Discrete - Regression with count - Poisson'],\n",
    "            value='Ordinary Least Squares',\n",
    "            description='Model'\n",
    "        )\n",
    "\n",
    "model_type.set_title  = 'model_type'\n",
    "\n",
    "headers_dependent = widgets.Dropdown(\n",
    "            options=df_cols,\n",
    "            value=df_cols[0],\n",
    "            description='Dependent'\n",
    "        )\n",
    "\n",
    "headers_dependent.set_title  = 'headers_dependent'\n",
    "\n",
    "headers_factor = widgets.Dropdown(\n",
    "            options=df_cols,\n",
    "            value=df_cols[0],\n",
    "            description='Factor'\n",
    "        )\n",
    "\n",
    "headers_factor.set_title  = 'headers_factor'\n",
    "\n",
    "headers_groups = widgets.Dropdown(\n",
    "            options=df_cols,\n",
    "            value=df_cols[0],\n",
    "            description='Random'\n",
    "        )\n",
    "\n",
    "headers_groups.set_title  = 'headers_groups'\n",
    "\n",
    "analysis_formula = widgets.Text(\n",
    "    value='',\n",
    "    placeholder='Enter formula',\n",
    "    description='Formula',\n",
    "    disabled=False\n",
    ")\n",
    "\n",
    "analysis_formula.set_title  = 'analysis_formula'"
   ]
  },
  {
   "cell_type": "markdown",
   "metadata": {},
   "source": [
    "# Interaction function for the ANALYSIS tab"
   ]
  },
  {
   "cell_type": "markdown",
   "metadata": {},
   "source": [
    "Function to do the analysis, based on the widgets in the Analysis tab."
   ]
  },
  {
   "cell_type": "code",
   "execution_count": 24,
   "metadata": {
    "extensions": {
     "jupyter_dashboards": {
      "version": 1,
      "views": {
       "grid_default": {
        "col": 0,
        "height": 12,
        "hidden": false,
        "row": 25,
        "width": 5
       },
       "report_default": {}
      }
     }
    }
   },
   "outputs": [
    {
     "data": {
      "application/vnd.jupyter.widget-view+json": {
       "model_id": "14a0b555842843958ae3cb0d9400f5ab",
       "version_major": 2,
       "version_minor": 0
      },
      "text/html": [
       "<p>Failed to display Jupyter Widget of type <code>interactive</code>.</p>\n",
       "<p>\n",
       "  If you're reading this message in the Jupyter Notebook or JupyterLab Notebook, it may mean\n",
       "  that the widgets JavaScript is still loading. If this message persists, it\n",
       "  likely means that the widgets JavaScript library is either not installed or\n",
       "  not enabled. See the <a href=\"https://ipywidgets.readthedocs.io/en/stable/user_install.html\">Jupyter\n",
       "  Widgets Documentation</a> for setup instructions.\n",
       "</p>\n",
       "<p>\n",
       "  If you're reading this message in another frontend (for example, a static\n",
       "  rendering on GitHub or <a href=\"https://nbviewer.jupyter.org/\">NBViewer</a>),\n",
       "  it may mean that your frontend doesn't currently support widgets.\n",
       "</p>\n"
      ],
      "text/plain": [
       "interactive(children=(Dropdown(description='Model', options=('Ordinary Least Squares', 'Generalized Linear Models', 'Robust Linear Models', 'Linear Mixed Effects Models', 'Discrete - Regression with binary - Logit', 'Discrete - Regression with binary - Probit', 'Discrete - Regression with nominal - MNLogit', 'Discrete - Regression with count - Poisson'), value='Ordinary Least Squares'), Dropdown(description='Dependent', options=('Select', 'Pseudonym', 'Community', 'Age', 'Gender', 'SES', 'TotalN', 'Proportionme', 'Binary', 'Demographic'), value='Select'), Dropdown(description='Factor', options=('Select', 'Pseudonym', 'Community', 'Age', 'Gender', 'SES', 'TotalN', 'Proportionme', 'Binary', 'Demographic'), value='Select'), Dropdown(description='Random', options=('Select', 'Pseudonym', 'Community', 'Age', 'Gender', 'SES', 'TotalN', 'Proportionme', 'Binary', 'Demographic'), value='Select'), Text(value='', description='Formula', placeholder='Enter formula'), Output()), _dom_classes=('widget-interact',))"
      ]
     },
     "metadata": {},
     "output_type": "display_data"
    }
   ],
   "source": [
    "\n",
    "@interact\n",
    "def view_Analysis(model_type:model_type,\n",
    "                     headers_dependent:headers_dependent,\n",
    "                     headers_factor:headers_factor,\n",
    "                  headers_groups:headers_groups,\n",
    "                  analysis_formula:analysis_formula):\n",
    "\n",
    "        data = df\n",
    "        \n",
    "        mdl_string = 'noInput'\n",
    "        \n",
    "        if analysis_formula != '':\n",
    "            mdl_string = analysis_formula\n",
    "        else:\n",
    "            if headers_dependent != 'Select' and headers_factor != 'Select':\n",
    "                 mdl_string = headers_dependent + ' ~ ' + headers_factor\n",
    "        \n",
    "        if mdl_string != 'noInput':\n",
    "            \n",
    "            if analysis_formula != '':\n",
    "                mdl_string = analysis_formula\n",
    "            else:\n",
    "                mdl_string = headers_dependent + ' ~ ' + headers_factor\n",
    "            \n",
    "            if model_type == 'Ordinary Least Squares':\n",
    "                model = ols(mdl_string, data).fit()\n",
    "            elif model_type == 'Generalized Linear Models':\n",
    "                model = glm(mdl_string, data, family=sm.families.Gamma()).fit()\n",
    "            elif model_type == 'Robust Linear Models':\n",
    "                model = rlm(mdl_string, data, M=sm.robust.norms.HuberT()).fit()\n",
    "            elif model_type == 'Linear Mixed Effects Models':\n",
    "                if headers_groups != 'Select':\n",
    "                    model = mixedlm(mdl_string, data, groups=data[headers_groups]).fit()\n",
    "            elif model_type == 'Discrete - Regression with binary - Logit':\n",
    "                model = Logit(data[headers_dependent], \n",
    "                              data[headers_factor].astype(float)).fit()\n",
    "            elif model_type == 'Discrete - Regression with binary - Probit':\n",
    "                model = Probit(data[headers_dependent], \n",
    "                              data[headers_factor].astype(float)).fit()\n",
    "            elif model_type == 'Discrete - Regression with nominal - MNLogit':\n",
    "                y = data[headers_factor]\n",
    "                x = sm.add_constant(data[headers_dependent], prepend = False)\n",
    "                model = sm.MNLogit(y, x).fit()\n",
    "            elif model_type == 'Discrete - Regression with count - Poisson':\n",
    "                model = Poisson(data[headers_dependent], \n",
    "                              data[headers_factor].astype(float)).fit()\n",
    "                \n",
    "            display(model.summary())"
   ]
  },
  {
   "cell_type": "markdown",
   "metadata": {},
   "source": [
    "# Assign tab contents"
   ]
  },
  {
   "cell_type": "markdown",
   "metadata": {},
   "source": [
    "This section assigns the different widgets and functions to a variable, which is passed to a box widget."
   ]
  },
  {
   "cell_type": "code",
   "execution_count": 25,
   "metadata": {
    "collapsed": true,
    "extensions": {
     "jupyter_dashboards": {
      "version": 1,
      "views": {
       "grid_default": {
        "hidden": true
       },
       "report_default": {}
      }
     }
    }
   },
   "outputs": [],
   "source": [
    "\n",
    "\n",
    "#VISUALISATION\n",
    "widgetInteract = interactive(view_image)\n",
    "tab_visualise = widgets.HBox([widgetInteract,button])\n",
    "\n",
    "#DATA\n",
    "widgetData = interactive(view_Data)\n",
    "tab_data = widgets.HBox([widgetData,])\n",
    "\n",
    "#FILTER\n",
    "widgetFilter = interactive(view_filterTable)\n",
    "tab_filter = widgets.HBox([widgetFilter,])\n",
    "\n",
    "#PIVOT\n",
    "widgetPivot = interactive(view_pivotTable)\n",
    "tab_pivot = widgets.HBox([widgetPivot,])\n",
    "\n",
    "#CONTINGENCY\n",
    "widgetContingency = interactive(view_Contingency)\n",
    "tab_Contingency = widgets.HBox([widgetContingency,])\n",
    "\n",
    "#ANALYSIS\n",
    "widgetAnalyses = interactive(view_Analysis)\n",
    "tab_Analyses = widgets.HBox([widgetAnalyses,])\n"
   ]
  },
  {
   "cell_type": "markdown",
   "metadata": {},
   "source": [
    "# Create the main interactive section"
   ]
  },
  {
   "cell_type": "markdown",
   "metadata": {},
   "source": [
    "This section puts together the previously created widgets and boxes into a single interactive section."
   ]
  },
  {
   "cell_type": "code",
   "execution_count": 26,
   "metadata": {
    "extensions": {
     "jupyter_dashboards": {
      "version": 1,
      "views": {
       "grid_default": {
        "col": 0,
        "height": 12,
        "hidden": false,
        "row": 83,
        "width": 12
       },
       "report_default": {}
      }
     }
    }
   },
   "outputs": [
    {
     "data": {
      "application/vnd.jupyter.widget-view+json": {
       "model_id": "d4a2ab9371ad4e4f81949a6d0549300d",
       "version_major": 2,
       "version_minor": 0
      },
      "text/html": [
       "<p>Failed to display Jupyter Widget of type <code>Tab</code>.</p>\n",
       "<p>\n",
       "  If you're reading this message in the Jupyter Notebook or JupyterLab Notebook, it may mean\n",
       "  that the widgets JavaScript is still loading. If this message persists, it\n",
       "  likely means that the widgets JavaScript library is either not installed or\n",
       "  not enabled. See the <a href=\"https://ipywidgets.readthedocs.io/en/stable/user_install.html\">Jupyter\n",
       "  Widgets Documentation</a> for setup instructions.\n",
       "</p>\n",
       "<p>\n",
       "  If you're reading this message in another frontend (for example, a static\n",
       "  rendering on GitHub or <a href=\"https://nbviewer.jupyter.org/\">NBViewer</a>),\n",
       "  it may mean that your frontend doesn't currently support widgets.\n",
       "</p>\n"
      ],
      "text/plain": [
       "Tab(children=(HBox(children=(interactive(children=(Dropdown(description='X', options=('Select', 'Pseudonym', 'Community', 'Age', 'Gender', 'SES', 'TotalN', 'Proportionme', 'Binary', 'Demographic'), value='Select'), Dropdown(description='Y', options=('Select', 'Pseudonym', 'Community', 'Age', 'Gender', 'SES', 'TotalN', 'Proportionme', 'Binary', 'Demographic'), value='Select'), Dropdown(description='Colour', options=('Select', 'Pseudonym', 'Community', 'Age', 'Gender', 'SES', 'Demographic'), value='Select'), Output()), _dom_classes=('widget-interact',)), Button(description='Save Plot', style=ButtonStyle()))), HBox(children=(interactive(children=(Dropdown(description='Data', options=('df', 'original_data'), value='df'), Output()), _dom_classes=('widget-interact',)),)), interactive(children=(Dropdown(description='Data', options=('df', 'original_data'), value='df'), Output()), _dom_classes=('widget-interact',)), HBox(children=(interactive(children=(Dropdown(description='Filter Column', options=('Select', 'Pseudonym', 'Community', 'Age', 'Gender', 'SES', 'TotalN', 'Proportionme', 'Binary', 'Demographic'), value='Select'), Dropdown(description='Filter options', options=('equals', 'notEqual', 'largerThan', 'lowerThan'), value='equals'), Text(value='Select', description='Condition', placeholder='Enter filter condition'), Text(value='', description='Manual filter', placeholder='Type filter'), RadioButtons(description='Overwrite', options=('no', 'yes'), value='no'), RadioButtons(description='Restore', options=('no', 'yes'), value='no'), Output()), _dom_classes=('widget-interact',)),)), HBox(children=(interactive(children=(Dropdown(description='Type', options=('Original', 'Fitted Values', 'Residuals', 'p_value', 'chi2_contributions'), value='Original'), Dropdown(description='Row', options=('Select', 'Pseudonym', 'Community', 'Age', 'Gender', 'SES', 'TotalN', 'Proportionme', 'Binary', 'Demographic'), value='Select'), Dropdown(description='Column', options=('Select', 'Pseudonym', 'Community', 'Age', 'Gender', 'SES', 'TotalN', 'Proportionme', 'Binary', 'Demographic'), value='Select'), Dropdown(description='Column 2', options=('Select', 'Pseudonym', 'Community', 'Age', 'Gender', 'SES', 'TotalN', 'Proportionme', 'Binary', 'Demographic'), value='Select'), Output()), _dom_classes=('widget-interact',)),)), HBox(children=(interactive(children=(Dropdown(description='Model', options=('Ordinary Least Squares', 'Generalized Linear Models', 'Robust Linear Models', 'Linear Mixed Effects Models', 'Discrete - Regression with binary - Logit', 'Discrete - Regression with binary - Probit', 'Discrete - Regression with nominal - MNLogit', 'Discrete - Regression with count - Poisson'), value='Ordinary Least Squares'), Dropdown(description='Dependent', options=('Select', 'Pseudonym', 'Community', 'Age', 'Gender', 'SES', 'TotalN', 'Proportionme', 'Binary', 'Demographic'), value='Select'), Dropdown(description='Factor', options=('Select', 'Pseudonym', 'Community', 'Age', 'Gender', 'SES', 'TotalN', 'Proportionme', 'Binary', 'Demographic'), value='Select'), Dropdown(description='Random', options=('Select', 'Pseudonym', 'Community', 'Age', 'Gender', 'SES', 'TotalN', 'Proportionme', 'Binary', 'Demographic'), value='Select'), Text(value='', description='Formula', placeholder='Enter formula'), Output()), _dom_classes=('widget-interact',)),))), _titles={'0': 'Visualise', '1': 'Data', '2': 'Pivot', '3': 'Filter', '4': 'Contingency', '5': 'Analysis'})"
      ]
     },
     "metadata": {},
     "output_type": "display_data"
    }
   ],
   "source": [
    "\n",
    "tab_nest = widgets.Tab()\n",
    "tab_nest.children = [tab_visualise,tab_data,widgetPivot,tab_filter,tab_Contingency,tab_Analyses]\n",
    "tab_nest.set_title(0, 'Visualise')\n",
    "tab_nest.set_title(1, 'Data')\n",
    "tab_nest.set_title(2, 'Pivot')\n",
    "tab_nest.set_title(3, 'Filter')\n",
    "tab_nest.set_title(4, 'Contingency')\n",
    "tab_nest.set_title(5, 'Analysis')\n",
    "tab_nest"
   ]
  }
 ],
 "metadata": {
  "extensions": {
   "jupyter_dashboards": {
    "activeView": "grid_default",
    "version": 1,
    "views": {
     "grid_default": {
      "cellMargin": 10,
      "defaultCellHeight": 20,
      "maxColumns": 12,
      "name": "grid",
      "type": "grid"
     },
     "report_default": {
      "name": "report",
      "type": "report"
     }
    }
   }
  },
  "kernelspec": {
   "display_name": "Python 3",
   "language": "python",
   "name": "python3"
  },
  "language_info": {
   "codemirror_mode": {
    "name": "ipython",
    "version": 3
   },
   "file_extension": ".py",
   "mimetype": "text/x-python",
   "name": "python",
   "nbconvert_exporter": "python",
   "pygments_lexer": "ipython3",
   "version": "3.6.1"
  }
 },
 "nbformat": 4,
 "nbformat_minor": 2
}
