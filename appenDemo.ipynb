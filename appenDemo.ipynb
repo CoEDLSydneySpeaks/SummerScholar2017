{
 "cells": [
  {
   "cell_type": "code",
   "execution_count": 1,
   "metadata": {
    "extensions": {
     "jupyter_dashboards": {
      "version": 1,
      "views": {
       "grid_default": {
        "hidden": true
       },
       "report_default": {}
      }
     }
    }
   },
   "outputs": [
    {
     "name": "stderr",
     "output_type": "stream",
     "text": [
      "/Users/u1037706/anaconda3/lib/python3.6/site-packages/statsmodels/compat/pandas.py:56: FutureWarning: The pandas.core.datetools module is deprecated and will be removed in a future version. Please use the pandas.tseries module instead.\n",
      "  from pandas.core import datetools\n"
     ]
    }
   ],
   "source": [
    "%matplotlib inline\n",
    "import functools\n",
    "import pandas as pd\n",
    "import numpy as np\n",
    "from ipywidgets import interact\n",
    "from ipywidgets import *\n",
    "import ipywidgets as widgets\n",
    "import seaborn as sns\n",
    "from bokeh.plotting import figure, output_file, show\n",
    "from bokeh.io import output_notebook, push_notebook, show\n",
    "from bokeh.palettes import brewer\n",
    "import seaborn as sns\n",
    "import matplotlib.pyplot as plt\n",
    "from IPython.display import display\n",
    "from scipy import stats\n",
    "from statsmodels.formula.api import ols, gls, wls, glm, rlm, mixedlm, Logit, Probit, MNLogit, Poisson\n",
    "import statsmodels.api as sm\n",
    "from statsmodels.graphics.mosaicplot import mosaic\n",
    "from pivottablejs import pivot_ui\n",
    "from beakerx import *\n",
    "\n",
    "import warnings\n",
    "\n",
    "warnings.filterwarnings('ignore')"
   ]
  },
  {
   "cell_type": "code",
   "execution_count": 2,
   "metadata": {
    "extensions": {
     "jupyter_dashboards": {
      "version": 1,
      "views": {
       "grid_default": {
        "col": 0,
        "height": 4,
        "hidden": false,
        "row": 0,
        "width": 4
       },
       "report_default": {}
      }
     }
    }
   },
   "outputs": [
    {
     "data": {
      "application/vnd.jupyter.widget-view+json": {
       "model_id": "c01610b85c424782b830e24fc569603a",
       "version_major": 2,
       "version_minor": 0
      },
      "text/plain": [
       "A Jupyter Widget"
      ]
     },
     "metadata": {},
     "output_type": "display_data"
    },
    {
     "data": {
      "application/vnd.jupyter.widget-view+json": {
       "model_id": "301e957751484278ae8ffc3dc649e20a",
       "version_major": 2,
       "version_minor": 0
      },
      "text/plain": [
       "A Jupyter Widget"
      ]
     },
     "metadata": {},
     "output_type": "display_data"
    }
   ],
   "source": [
    "#read data\n",
    "\n",
    "fileInput = widgets.Text(\n",
    "    #value='Me_Possessive.xlsx',\n",
    "    placeholder='Enter file name with extension',\n",
    "    description='File:',\n",
    "    disabled=False\n",
    ")\n",
    "\n",
    "fileInput.set_title  = 'fileInput'\n",
    "\n",
    "sheet_number = widgets.IntText(\n",
    "    value=0,\n",
    "    description='Sheet',\n",
    "    disabled=False\n",
    ")\n",
    "\n",
    "sheet_number.set_title  = 'sheet_number'\n",
    "\n",
    "display(fileInput, sheet_number)"
   ]
  },
  {
   "cell_type": "code",
   "execution_count": 3,
   "metadata": {
    "collapsed": true,
    "extensions": {
     "jupyter_dashboards": {
      "version": 1,
      "views": {
       "grid_default": {
        "hidden": true
       },
       "report_default": {}
      }
     }
    }
   },
   "outputs": [],
   "source": [
    "#get file name\n",
    "inFile = fileInput.value\n",
    "inFile = inFile.replace(\"\\\\\", \"/\")\n",
    "#get file extension\n",
    "fileExtension = inFile.split(\".\")[-1]\n",
    "#print(fileExtension)\n",
    "\n",
    "if fileExtension == 'xlsx':\n",
    "    df = pd.read_excel(inFile, sheet_number.value)\n",
    "elif fileExtension == 'csv':\n",
    "    df = pd.read_csv(inFile)\n",
    "elif fileExtension == 'txt':\n",
    "    df = pd.read_csv(inFile, sep='\\t', lineterminator='\\r')\n",
    "\n",
    "df = pd.DataFrame(df)\n",
    "original_data = df"
   ]
  },
  {
   "cell_type": "code",
   "execution_count": 4,
   "metadata": {
    "collapsed": true,
    "extensions": {
     "jupyter_dashboards": {
      "version": 1,
      "views": {
       "grid_default": {
        "hidden": true
       },
       "report_default": {}
      }
     }
    }
   },
   "outputs": [],
   "source": [
    "df_cols = list(df.columns.values)\n",
    "df_cols.insert(0, 'Select')\n",
    "str_cols = list(df.select_dtypes(include=['object']).columns.values)\n",
    "str_cols.insert(0, 'Select')\n",
    "numeric_cols = list(df.select_dtypes(include=['number']).columns.values)\n",
    "numeric_cols.insert(0, 'Select')"
   ]
  },
  {
   "cell_type": "code",
   "execution_count": 5,
   "metadata": {
    "collapsed": true,
    "extensions": {
     "jupyter_dashboards": {
      "version": 1,
      "views": {
       "grid_default": {
        "hidden": true
       },
       "report_default": {}
      }
     }
    }
   },
   "outputs": [],
   "source": [
    "#define widgets\n",
    "headers_x = widgets.Dropdown(\n",
    "            options=df_cols,\n",
    "            value=df_cols[0],\n",
    "            description='X'\n",
    "        )\n",
    "\n",
    "headers_x.set_title  = 'headers_x'\n",
    "\n",
    "headers_y = widgets.Dropdown(\n",
    "            options=df_cols,\n",
    "            value=df_cols[0],\n",
    "            description='Y'\n",
    "        )\n",
    "\n",
    "headers_y.set_title  = 'headers_y'\n",
    "\n",
    "colour_headers = widgets.Dropdown(\n",
    "            options=str_cols,\n",
    "            value=str_cols[0],\n",
    "            description='Colour'\n",
    "        )\n",
    "\n",
    "colour_headers.set_title  = 'colour_headers'"
   ]
  },
  {
   "cell_type": "code",
   "execution_count": 6,
   "metadata": {
    "extensions": {
     "jupyter_dashboards": {
      "version": 1,
      "views": {
       "grid_default": {
        "col": 4,
        "height": 13,
        "hidden": false,
        "row": 0,
        "width": 4
       },
       "report_default": {}
      }
     }
    }
   },
   "outputs": [
    {
     "data": {
      "application/vnd.jupyter.widget-view+json": {
       "model_id": "dc7cd401c3ae42c38ab0201339b37279",
       "version_major": 2,
       "version_minor": 0
      },
      "text/plain": [
       "A Jupyter Widget"
      ]
     },
     "metadata": {},
     "output_type": "display_data"
    }
   ],
   "source": [
    "#plot\n",
    "@interact\n",
    "def view_image(headers_x:headers_x, headers_y:headers_y, \n",
    "               colour_headers:colour_headers):\n",
    "\n",
    "        data = df\n",
    "        \n",
    "        #no selection made\n",
    "        #========================================================================\n",
    "        if headers_x == 'Select' and headers_y == 'Select':\n",
    "            sns.set_context(\"notebook\", font_scale=1.1)\n",
    "        \n",
    "        #X selected but noy Y\n",
    "        #========================================================================\n",
    "        elif headers_x != 'Select' and headers_y == 'Select':\n",
    "            \n",
    "            sns.set_context(\"notebook\", font_scale=1.1)\n",
    "            x=headers_x\n",
    "\n",
    "            if df[headers_x].dtype == np.float or df[headers_x].dtype == np.int:\n",
    "                x_type = 'is_numeric'\n",
    "            elif df[headers_x].dtype == np.object:\n",
    "                x_type = 'is_string'\n",
    "            \n",
    "            #plot when x is a string\n",
    "            #--------------------------------------------------------------------\n",
    "            if x_type == 'is_string':\n",
    "                #if colours have not been selected\n",
    "                #................................................................\n",
    "                if colour_headers == 'Select':\n",
    "                    \n",
    "                        g=sns.countplot(x=x, data=data)\n",
    "                        loc, labels = plt.xticks()\n",
    "                        g.set_xticklabels(labels, rotation=90)\n",
    "                        plt.show()\n",
    "                        #sns_plot.savefig(\"output.png\")\n",
    "                #if colours have been selected\n",
    "                #................................................................\n",
    "                else:\n",
    "                        g=sns.countplot(x=x, hue=colour_headers, data=data)\n",
    "                        loc, labels = plt.xticks()\n",
    "                        g.set_xticklabels(labels, rotation=90)\n",
    "                        plt.show()\n",
    "                        \n",
    "            #plot when x is numeric\n",
    "            #--------------------------------------------------------------------\n",
    "            else:\n",
    "                #if colours have not been selected\n",
    "                #................................................................\n",
    "                if colour_headers == 'Select':\n",
    "                    xplot = data[x]\n",
    "                    sns.distplot(xplot)\n",
    "                    plt.show()\n",
    "                #if colours have been selected   \n",
    "                #................................................................\n",
    "                else:\n",
    "                    g = sns.FacetGrid(data, hue=colour_headers)\n",
    "                    g = g.map(sns.distplot, x)\n",
    "                    plt.show()\n",
    "        #if only Y has been selected\n",
    "        #========================================================================\n",
    "        elif headers_x == 'Select' and headers_y != 'Select':\n",
    "            sns.set_context(\"notebook\", font_scale=1.1)\n",
    "        #if both X and Y have been selected\n",
    "        \n",
    "        #========================================================================\n",
    "        elif headers_x != 'Select' and headers_y != 'Select':\n",
    "            x=headers_x\n",
    "            y=headers_y\n",
    "\n",
    "            if df[headers_x].dtype == np.float or df[headers_x].dtype == np.int:\n",
    "                x_type = 'is_numeric'\n",
    "            elif df[headers_x].dtype == np.object:\n",
    "                x_type = 'is_string'\n",
    "\n",
    "            if df[headers_y].dtype == np.float or df[headers_y].dtype == np.int:\n",
    "                y_type = 'is_numeric'\n",
    "            elif df[headers_y].dtype == np.object:\n",
    "                y_type = 'is_string'\n",
    "                \n",
    "            sns.set_context(\"notebook\", font_scale=1.1)\n",
    "            sns.set_style(\"ticks\")\n",
    "            \n",
    "            #Numeric vs Numeric\n",
    "            #------------------------------------------------------------------------\n",
    "            if x_type == 'is_numeric' and y_type == 'is_numeric':\n",
    "                # Create scatterplot of dataframe\n",
    "                #if colours have not been selected\n",
    "                #................................................................\n",
    "                if colour_headers == 'Select':\n",
    "                    g = sns.lmplot(x=x, # Horizontal axis\n",
    "                           y=y, # Vertical axis\n",
    "                           data=data, # Data source\n",
    "                           fit_reg=False, # Don't fix a regression line\n",
    "                           scatter_kws={\"marker\": \"D\"},\n",
    "                          legend = True)\n",
    "                    plt.show()\n",
    "                    \n",
    "                #if colours have been selected\n",
    "                #................................................................\n",
    "                else:\n",
    "                    g = sns.lmplot(x=x, # Horizontal axis\n",
    "                           y=y, # Vertical axis\n",
    "                           data=data, # Data source\n",
    "                           fit_reg=False, # Don't fix a regression line\n",
    "                           hue=colour_headers, # Set color\n",
    "                           scatter_kws={\"marker\": \"D\"},# S marker size\n",
    "                          legend = True)\n",
    "                    plt.show()\n",
    "                    \n",
    "            #Numeric vs String\n",
    "            #------------------------------------------------------------------------\n",
    "            elif x_type == 'is_numeric' and y_type == 'is_string':\n",
    "                sns.set_style(\"ticks\")\n",
    "                \n",
    "                #if colours have not been selected\n",
    "                #................................................................\n",
    "                if colour_headers == 'Select':\n",
    "                    g=sns.violinplot(x=x, y=y, data=data)\n",
    "                    plt.show()\n",
    "                #if colours have been selected   \n",
    "                #................................................................\n",
    "                else:\n",
    "                    g=sns.violinplot(x=x, y=y, hue=colour_headers, data=data)\n",
    "                    plt.show()\n",
    "            #String vs Numeric\n",
    "            #------------------------------------------------------------------------\n",
    "            elif x_type == 'is_string' and y_type == 'is_numeric':\n",
    "                \n",
    "                #if colours have not been selected\n",
    "                #................................................................\n",
    "                if colour_headers == 'Select':\n",
    "                    sns.set_style(\"ticks\")\n",
    "                    g=sns.boxplot(x=x, y=y, data=data)\n",
    "                    plt.show()\n",
    "                #if colours have been selected   \n",
    "                #................................................................\n",
    "                else:\n",
    "                    sns.set_style(\"ticks\")\n",
    "                    g=sns.boxplot(x=x, y=y, hue=colour_headers, data=data)\n",
    "                    plt.show()\n",
    "                    \n",
    "\n",
    "            #String vs String\n",
    "            #------------------------------------------------------------------------\n",
    "            elif x_type == 'is_string' and y_type == 'is_string':\n",
    "                mosaic(data, [x, y])\n",
    "                plt.show()\n",
    "\n",
    "        "
   ]
  },
  {
   "cell_type": "code",
   "execution_count": 7,
   "metadata": {
    "collapsed": true,
    "extensions": {
     "jupyter_dashboards": {
      "version": 1,
      "views": {
       "grid_default": {
        "hidden": true
       },
       "report_default": {}
      }
     }
    }
   },
   "outputs": [],
   "source": [
    "#plot\n",
    "#@interact\n",
    "def save_image(b):\n",
    "\n",
    "        data = df\n",
    "        \n",
    "        #no selection made\n",
    "        #========================================================================\n",
    "        if headers_x.value == 'Select' and headers_y.value == 'Select':\n",
    "            sns.set_context(\"notebook\", font_scale=1.1)\n",
    "        \n",
    "        #X selected but noy Y\n",
    "        #========================================================================\n",
    "        elif headers_x.value != 'Select' and headers_y.value == 'Select':\n",
    "            sns.set_context(\"notebook\", font_scale=1.1)\n",
    "            x=headers_x.value\n",
    "\n",
    "            if df[headers_x.value].dtype == np.float or df[headers_x.value].dtype == np.int:\n",
    "                x_type = 'is_numeric'\n",
    "            elif df[headers_x.value].dtype == np.object:\n",
    "                x_type = 'is_string'\n",
    "            \n",
    "            #plot when x is a string\n",
    "            #--------------------------------------------------------------------\n",
    "            if x_type == 'is_string':\n",
    "                #if colours have not been selected\n",
    "                #................................................................\n",
    "                if colour_headers.value == 'Select':\n",
    "                    \n",
    "                        g=sns.countplot(x=x, data=data)\n",
    "                        loc, labels = plt.xticks()\n",
    "                        g.set_xticklabels(labels, rotation=90)\n",
    "                        g.figure.savefig(\"xCategoricalNoColour.png\")\n",
    "                        plt.close()\n",
    "                #if colours have been selected\n",
    "                #................................................................\n",
    "                else:\n",
    "                        g=sns.countplot(x=x, hue=colour_headers.value, data=data)\n",
    "                        loc, labels = plt.xticks()\n",
    "                        g.set_xticklabels(labels, rotation=90)\n",
    "                        g.figure.savefig(\"xCategoricalColour.png\")\n",
    "                        plt.close()\n",
    "                        #plt.show()\n",
    "                        \n",
    "            #plot when x is numeric\n",
    "            #--------------------------------------------------------------------\n",
    "            else:\n",
    "                #if colours have not been selected\n",
    "                #................................................................\n",
    "                if colour_headers.value == 'Select':\n",
    "                    xplot = data[x]\n",
    "                    g=sns.distplot(xplot)\n",
    "                    g.figure.savefig(\"xNumericNoColour.png\")\n",
    "                    plt.close()\n",
    "                    #plt.show()\n",
    "                #if colours have been selected   \n",
    "                #................................................................\n",
    "                else:\n",
    "                    g = sns.FacetGrid(data, hue=colour_headers.value)\n",
    "                    g = g.map(sns.distplot, x)\n",
    "                    g.savefig(\"xNumericColour.png\")\n",
    "                    plt.close()\n",
    "                    #plt.show()\n",
    "        #if only Y has been selected\n",
    "        #========================================================================\n",
    "        elif headers_x.value == 'Select' and headers_y.value != 'Select':\n",
    "            sns.set_context(\"notebook\", font_scale=1.1)\n",
    "        #if both X and Y have been selected\n",
    "        \n",
    "        #========================================================================\n",
    "        elif headers_x.value != 'Select' and headers_y.value != 'Select':\n",
    "            x=headers_x.value\n",
    "            y=headers_y.value\n",
    "\n",
    "            if df[headers_x.value].dtype == np.float or df[headers_x.value].dtype == np.int:\n",
    "                x_type = 'is_numeric'\n",
    "            elif df[headers_x.value].dtype == np.object:\n",
    "                x_type = 'is_string'\n",
    "\n",
    "            if df[headers_y.value].dtype == np.float or df[headers_y.value].dtype == np.int:\n",
    "                y_type = 'is_numeric'\n",
    "            elif df[headers_y.value].dtype == np.object:\n",
    "                y_type = 'is_string'\n",
    "                \n",
    "            sns.set_context(\"notebook\", font_scale=1.1)\n",
    "            sns.set_style(\"ticks\")\n",
    "            \n",
    "            #Numeric vs Numeric\n",
    "            #------------------------------------------------------------------------\n",
    "            if x_type == 'is_numeric' and y_type == 'is_numeric':\n",
    "                # Create scatterplot of dataframe\n",
    "                #if colours have not been selected\n",
    "                #................................................................\n",
    "                if colour_headers.value == 'Select':\n",
    "                    g = sns.lmplot(x=x, # Horizontal axis\n",
    "                           y=y, # Vertical axis\n",
    "                           data=data, # Data source\n",
    "                           fit_reg=False, # Don't fix a regression line\n",
    "                           scatter_kws={\"marker\": \"D\", # Set marker style\n",
    "                                        \"s\": pointSize.value,\n",
    "                                        \"alpha\":pointAlpha.value},# S marker size\n",
    "                          legend = True)\n",
    "                    g.savefig(\"NumericVsNumericNoColour.png\")\n",
    "                    plt.close()\n",
    "                    #plt.show()\n",
    "                    \n",
    "                #if colours have been selected\n",
    "                #................................................................\n",
    "                else:\n",
    "                    g = sns.lmplot(x=x, # Horizontal axis\n",
    "                           y=y, # Vertical axis\n",
    "                           data=data, # Data source\n",
    "                           fit_reg=False, # Don't fix a regression line\n",
    "                           hue=colour_headers.value, # Set color\n",
    "                           scatter_kws={\"marker\": \"D\", # Set marker style\n",
    "                                        \"s\": pointSize.value,\n",
    "                                        \"alpha\":pointAlpha.value},# S marker size\n",
    "                          legend = True)\n",
    "                    g.savefig(\"NumericVsNumericColour.png\")\n",
    "                    plt.close()\n",
    "                    #plt.show()\n",
    "                    \n",
    "            #Numeric vs String\n",
    "            #------------------------------------------------------------------------\n",
    "            elif x_type == 'is_numeric' and y_type == 'is_string':\n",
    "                sns.set_style(\"ticks\")\n",
    "                g=sns.violinplot(x=x, y=y, data=data)\n",
    "                g.figure.savefig(\"NumericVsCategorical.png\")\n",
    "                plt.close()\n",
    "                #plt.show()\n",
    "            #String vs Numeric\n",
    "            #------------------------------------------------------------------------\n",
    "            elif x_type == 'is_string' and y_type == 'is_numeric':\n",
    "                sns.set_style(\"ticks\")\n",
    "                g=sns.boxplot(x=x, y=y, data=data)\n",
    "                g.figure.savefig(\"CategoricalVsNumeric.png\")\n",
    "                plt.close()\n",
    "                #plt.show()\n",
    "            #String vs String\n",
    "            #------------------------------------------------------------------------\n",
    "            elif x_type == 'is_string' and y_type == 'is_string':\n",
    "                plotting = mosaic(data, [x, y])\n",
    "                plt.savefig('categoricalVsCategorical.png')\n",
    "                plt.close()\n",
    "\n",
    "        "
   ]
  },
  {
   "cell_type": "code",
   "execution_count": 8,
   "metadata": {
    "extensions": {
     "jupyter_dashboards": {
      "version": 1,
      "views": {
       "grid_default": {
        "col": 8,
        "height": 4,
        "hidden": false,
        "row": 0,
        "width": 4
       },
       "report_default": {}
      }
     }
    }
   },
   "outputs": [
    {
     "data": {
      "application/vnd.jupyter.widget-view+json": {
       "model_id": "a4b2ef998b524464b03faab53e25d8de",
       "version_major": 2,
       "version_minor": 0
      },
      "text/plain": [
       "A Jupyter Widget"
      ]
     },
     "metadata": {},
     "output_type": "display_data"
    }
   ],
   "source": [
    "#save plot\n",
    "\n",
    "#plot function\n",
    "\n",
    "button = widgets.Button(description=\"Save Plot\")\n",
    "button.on_click(save_image)\n",
    "display(button)"
   ]
  },
  {
   "cell_type": "code",
   "execution_count": 9,
   "metadata": {
    "collapsed": true,
    "extensions": {
     "jupyter_dashboards": {
      "version": 1,
      "views": {
       "grid_default": {
        "hidden": true
       },
       "report_default": {}
      }
     }
    }
   },
   "outputs": [],
   "source": [
    "def is_number(s):\n",
    "    try:\n",
    "        float(s)\n",
    "        return True\n",
    "    except ValueError:\n",
    "        pass\n",
    " \n",
    "    try:\n",
    "        import unicodedata\n",
    "        unicodedata.numeric(s)\n",
    "        return True\n",
    "    except (TypeError, ValueError):\n",
    "        pass\n",
    " \n",
    "    return False"
   ]
  },
  {
   "cell_type": "code",
   "execution_count": 10,
   "metadata": {
    "collapsed": true,
    "extensions": {
     "jupyter_dashboards": {
      "version": 1,
      "views": {
       "grid_default": {
        "hidden": true
       },
       "report_default": {}
      }
     }
    }
   },
   "outputs": [],
   "source": [
    "#filtering table input\n",
    "headers_x_filter = widgets.Dropdown(\n",
    "            options=df_cols,\n",
    "            value=df_cols[0],\n",
    "            description='Filter Column'\n",
    "        )\n",
    "\n",
    "headers_x_filter.set_title  = 'headers_x_filter'\n",
    "\n",
    "filter_options = widgets.Dropdown(\n",
    "            options=['equals', 'notEqual', 'largerThan', 'lowerThan'],\n",
    "            value='equals',\n",
    "            description='Filter options'\n",
    "        )\n",
    "\n",
    "filter_options.set_title  = 'filter_options'\n",
    "\n",
    "filter_input = widgets.Text(\n",
    "    value='Select',\n",
    "    placeholder='Enter filter condition',\n",
    "    description='Condition',\n",
    "    disabled=False\n",
    ")\n",
    "\n",
    "filter_input.set_title  = 'filter_input'\n",
    "\n",
    "manual_filter = widgets.Text(\n",
    "    value='',\n",
    "    placeholder='Type filter',\n",
    "    description='Manual filter',\n",
    "    disabled=False\n",
    ")\n",
    "\n",
    "manual_filter.set_title  = 'manual_filter'\n",
    "\n",
    "overwrite_data = widgets.RadioButtons(\n",
    "    options=['no', 'yes'],\n",
    "    value='no',\n",
    "    description='Overwrite',\n",
    "    disabled=False\n",
    ")\n",
    "\n",
    "overwrite_data.set_title = 'overwrite_data'\n",
    "\n",
    "restore_data = widgets.RadioButtons(\n",
    "    options=['no', 'yes'],\n",
    "    value='no',\n",
    "    description='Restore',\n",
    "    disabled=False,\n",
    "    \n",
    ")\n",
    "\n",
    "restore_data.set_title = 'restore_data'"
   ]
  },
  {
   "cell_type": "code",
   "execution_count": 11,
   "metadata": {
    "extensions": {
     "jupyter_dashboards": {
      "version": 1,
      "views": {
       "grid_default": {
        "col": 0,
        "height": 12,
        "hidden": false,
        "row": 13,
        "width": 12
       },
       "report_default": {}
      }
     }
    }
   },
   "outputs": [
    {
     "data": {
      "application/vnd.jupyter.widget-view+json": {
       "model_id": "08fc8c5f12a341d68c8dc930d62b9878",
       "version_major": 2,
       "version_minor": 0
      },
      "text/plain": [
       "A Jupyter Widget"
      ]
     },
     "metadata": {},
     "output_type": "display_data"
    }
   ],
   "source": [
    "#filtering\n",
    "@interact\n",
    "def view_filterTable(headers_x_filter:headers_x_filter,\n",
    "                     filter_options:filter_options,\n",
    "                     filter_input:filter_input,\n",
    "                     manual_filter:manual_filter,\n",
    "                     overwrite_data:overwrite_data,\n",
    "                     restore_data:restore_data):\n",
    "        \n",
    "        global df\n",
    "        \n",
    "        if restore_data == 'yes':\n",
    "            df = original_data\n",
    "        \n",
    "        data = df\n",
    "        \n",
    "        filter_value = 'noInput'\n",
    "        \n",
    "        if manual_filter != '':\n",
    "            filter_value = 'input'\n",
    "                \n",
    "        if filter_value == 'input':\n",
    "            inside_df = data.query(manual_filter)\n",
    "            display(inside_df)\n",
    "            \n",
    "            if overwrite_data == 'yes':\n",
    "                df = inside_df\n",
    "        else: \n",
    "            if is_number(filter_input):\n",
    "                filter_input = float(filter_input)\n",
    "\n",
    "            if headers_x_filter != 'Select' and filter_input != 'Select':\n",
    "                if filter_options == 'equals':\n",
    "                    inside_df = data[data[headers_x_filter] == filter_input]\n",
    "                elif filter_options == 'notEqual':\n",
    "                    inside_df = data[data[headers_x_filter] != filter_input]\n",
    "                elif filter_options == 'largerThan':\n",
    "                    inside_df = data[data[headers_x_filter] > filter_input]\n",
    "                elif filter_options == 'lowerThan':\n",
    "                    inside_df = data[data[headers_x_filter] < filter_input]\n",
    "\n",
    "                display(inside_df)\n",
    "                if overwrite_data == 'yes':\n",
    "                    df = inside_df"
   ]
  },
  {
   "cell_type": "code",
   "execution_count": 12,
   "metadata": {
    "collapsed": true,
    "extensions": {
     "jupyter_dashboards": {
      "version": 1,
      "views": {
       "grid_default": {
        "hidden": true
       },
       "report_default": {}
      }
     }
    }
   },
   "outputs": [],
   "source": [
    "#Analysis\n",
    "#Linear regression\n",
    "model_type = widgets.Dropdown(\n",
    "            options=['Ordinary Least Squares',\n",
    "                     'Generalized Linear Models',\n",
    "                     'Robust Linear Models',\n",
    "                     'Linear Mixed Effects Models',\n",
    "                     'Discrete - Regression with binary - Logit',\n",
    "                     'Discrete - Regression with binary - Probit',\n",
    "                     'Discrete - Regression with nominal - MNLogit',\n",
    "                     'Discrete - Regression with count - Poisson'],\n",
    "            value='Ordinary Least Squares',\n",
    "            description='Model'\n",
    "        )\n",
    "\n",
    "model_type.set_title  = 'model_type'\n",
    "\n",
    "headers_dependent = widgets.Dropdown(\n",
    "            options=df_cols,\n",
    "            value=df_cols[0],\n",
    "            description='Dependent'\n",
    "        )\n",
    "\n",
    "headers_dependent.set_title  = 'headers_dependent'\n",
    "\n",
    "headers_factor = widgets.Dropdown(\n",
    "            options=df_cols,\n",
    "            value=df_cols[0],\n",
    "            description='Factor'\n",
    "        )\n",
    "\n",
    "headers_factor.set_title  = 'headers_factor'\n",
    "\n",
    "headers_groups = widgets.Dropdown(\n",
    "            options=df_cols,\n",
    "            value=df_cols[0],\n",
    "            description='Groups'\n",
    "        )\n",
    "\n",
    "headers_groups.set_title  = 'headers_groups'\n",
    "\n",
    "analysis_formula = widgets.Text(\n",
    "    value='',\n",
    "    placeholder='Enter formula',\n",
    "    description='Formula',\n",
    "    disabled=False\n",
    ")\n",
    "\n",
    "analysis_formula.set_title  = 'analysis_formula'"
   ]
  },
  {
   "cell_type": "code",
   "execution_count": 13,
   "metadata": {
    "extensions": {
     "jupyter_dashboards": {
      "version": 1,
      "views": {
       "grid_default": {
        "col": 0,
        "height": 12,
        "hidden": false,
        "row": 25,
        "width": 5
       },
       "report_default": {}
      }
     }
    }
   },
   "outputs": [
    {
     "data": {
      "application/vnd.jupyter.widget-view+json": {
       "model_id": "7d63744b4f2f4488b11adad5995e5021",
       "version_major": 2,
       "version_minor": 0
      },
      "text/plain": [
       "A Jupyter Widget"
      ]
     },
     "metadata": {},
     "output_type": "display_data"
    }
   ],
   "source": [
    "#Analysis - Linear Regression\n",
    "@interact\n",
    "def view_Analyses(model_type:model_type,\n",
    "                     headers_dependent:headers_dependent,\n",
    "                     headers_factor:headers_factor,\n",
    "                  headers_groups:headers_groups,\n",
    "                  analysis_formula:analysis_formula):\n",
    "\n",
    "        data = df\n",
    "        \n",
    "        mdl_string = 'noInput'\n",
    "        \n",
    "        if analysis_formula != '':\n",
    "            mdl_string = analysis_formula\n",
    "        else:\n",
    "            if headers_dependent != 'Select' and headers_factor != 'Select':\n",
    "                 mdl_string = headers_dependent + ' ~ ' + headers_factor\n",
    "        \n",
    "        if mdl_string != 'noInput':\n",
    "            \n",
    "            if analysis_formula != '':\n",
    "                mdl_string = analysis_formula\n",
    "            else:\n",
    "                mdl_string = headers_dependent + ' ~ ' + headers_factor\n",
    "            \n",
    "            if model_type == 'Ordinary Least Squares':\n",
    "                model = ols(mdl_string, data).fit()\n",
    "            elif model_type == 'Generalized Linear Models':\n",
    "                model = glm(mdl_string, data, family=sm.families.Gamma()).fit()\n",
    "            elif model_type == 'Robust Linear Models':\n",
    "                model = rlm(mdl_string, data, M=sm.robust.norms.HuberT()).fit()\n",
    "            elif model_type == 'Linear Mixed Effects Models':\n",
    "                if headers_groups != 'Select':\n",
    "                    model = mixedlm(mdl_string, data, groups=data[headers_groups]).fit()\n",
    "            elif model_type == 'Discrete - Regression with binary - Logit':\n",
    "                model = Logit(data[headers_dependent], \n",
    "                              data[headers_factor].astype(float)).fit()\n",
    "            elif model_type == 'Discrete - Regression with binary - Probit':\n",
    "                model = Probit(data[headers_dependent], \n",
    "                              data[headers_factor].astype(float)).fit()\n",
    "            elif model_type == 'Discrete - Regression with nominal - MNLogit':\n",
    "                y = data[headers_factor]\n",
    "                x = sm.add_constant(data[headers_dependent], prepend = False)\n",
    "                model = sm.MNLogit(y, x).fit()\n",
    "            elif model_type == 'Discrete - Regression with count - Poisson':\n",
    "                model = Poisson(data[headers_dependent], \n",
    "                              data[headers_factor].astype(float)).fit()\n",
    "                \n",
    "            display(model.summary())"
   ]
  },
  {
   "cell_type": "code",
   "execution_count": 14,
   "metadata": {
    "collapsed": true,
    "extensions": {
     "jupyter_dashboards": {
      "version": 1,
      "views": {
       "grid_default": {
        "hidden": true
       },
       "report_default": {}
      }
     }
    }
   },
   "outputs": [],
   "source": [
    "#Contingency tables\n",
    "summary_type = widgets.Dropdown(\n",
    "            options=['Original',\n",
    "                     'Fitted Values',\n",
    "                     'Residuals',\n",
    "                     'p_value',\n",
    "                     'chi2_contributions'],\n",
    "            value='Original',\n",
    "            description='Type'\n",
    "        )\n",
    "\n",
    "summary_type.set_title  = 'summary_type'\n",
    "\n",
    "row_headers = widgets.Dropdown(\n",
    "            options=df_cols,\n",
    "            value=df_cols[0],\n",
    "            description='Row'\n",
    "        )\n",
    "\n",
    "row_headers.set_title  = 'row_headers'\n",
    "\n",
    "column_headers = widgets.Dropdown(\n",
    "            options=df_cols,\n",
    "            value=df_cols[0],\n",
    "            description='Column'\n",
    "        )\n",
    "\n",
    "column_headers.set_title  = 'column_headers'\n",
    "\n",
    "column_headers_extra = widgets.Dropdown(\n",
    "            options=df_cols,\n",
    "            value=df_cols[0],\n",
    "            description='Column 2'\n",
    "        )\n",
    "\n",
    "column_headers_extra.set_title  = 'column_headers_extra'"
   ]
  },
  {
   "cell_type": "code",
   "execution_count": 15,
   "metadata": {
    "extensions": {
     "jupyter_dashboards": {
      "version": 1,
      "views": {
       "grid_default": {
        "col": 0,
        "height": 5,
        "hidden": false,
        "row": 4,
        "width": 4
       },
       "report_default": {}
      }
     }
    }
   },
   "outputs": [
    {
     "data": {
      "application/vnd.jupyter.widget-view+json": {
       "model_id": "7225b071a78b4cab98547b450fbe3c2d",
       "version_major": 2,
       "version_minor": 0
      },
      "text/plain": [
       "A Jupyter Widget"
      ]
     },
     "metadata": {},
     "output_type": "display_data"
    }
   ],
   "source": [
    "#Contingency tables\n",
    "@interact\n",
    "def view_Contingency(summary_type:summary_type,\n",
    "                     row_headers:row_headers,\n",
    "                     column_headers:column_headers,\n",
    "                     column_headers_extra:column_headers_extra):\n",
    "\n",
    "        data = df\n",
    "        \n",
    "        if row_headers != 'Select' and column_headers != 'Select' and column_headers_extra == 'Select':\n",
    "            table = sm.stats.Table.from_data(data[[row_headers, column_headers]])\n",
    "            \n",
    "            if summary_type == 'Original':\n",
    "                print(table.table_orig)\n",
    "            elif summary_type == 'Fitted Values':\n",
    "                print(table.fittedvalues)\n",
    "            elif summary_type == 'Residuals':\n",
    "                print(table.resid_pearson)\n",
    "            elif summary_type == 'p_value':\n",
    "                rslt = table.test_nominal_association()\n",
    "                print(rslt.pvalue)\n",
    "            elif summary_type == 'chi2_contributions':\n",
    "                print(table.chi2_contribs)\n",
    "    \n",
    "        elif row_headers != 'Select' and column_headers != 'Select' and column_headers_extra != 'Select':\n",
    "            table = pd.crosstab(index=data[row_headers], \n",
    "                             columns=[data[column_headers],\n",
    "                                      data[column_headers_extra]],\n",
    "                             margins=True)\n",
    "            \n",
    "            if summary_type == 'Original':\n",
    "                print(table)\n",
    "            else:\n",
    "                print(table.T/table[\"All\"])\n",
    "                \n",
    "            \n",
    "            \n",
    "            \n",
    "                "
   ]
  },
  {
   "cell_type": "code",
   "execution_count": 16,
   "metadata": {
    "collapsed": true,
    "extensions": {
     "jupyter_dashboards": {
      "version": 1,
      "views": {
       "grid_default": {
        "hidden": true
       },
       "report_default": {}
      }
     }
    }
   },
   "outputs": [],
   "source": [
    "#view data\n",
    "view_data = widgets.Dropdown(\n",
    "            options=['df', 'original_data'],\n",
    "            value='df',\n",
    "            description='Data'\n",
    "        )\n",
    "\n",
    "view_data.set_title  = 'view_data'"
   ]
  },
  {
   "cell_type": "code",
   "execution_count": 17,
   "metadata": {
    "extensions": {
     "jupyter_dashboards": {
      "version": 1,
      "views": {
       "grid_default": {
        "col": 0,
        "height": 27,
        "hidden": false,
        "row": 37,
        "width": 12
       },
       "report_default": {}
      }
     }
    }
   },
   "outputs": [
    {
     "data": {
      "application/vnd.jupyter.widget-view+json": {
       "model_id": "ac30d7361458487abdf2a1021184423f",
       "version_major": 2,
       "version_minor": 0
      },
      "text/plain": [
       "A Jupyter Widget"
      ]
     },
     "metadata": {},
     "output_type": "display_data"
    }
   ],
   "source": [
    "#view data\n",
    "@interact\n",
    "def view_Data(view_data:view_data):\n",
    "    data = globals()[view_data]\n",
    "    display(data)"
   ]
  },
  {
   "cell_type": "code",
   "execution_count": 18,
   "metadata": {
    "collapsed": true,
    "extensions": {
     "jupyter_dashboards": {
      "version": 1,
      "views": {
       "grid_default": {
        "hidden": true
       },
       "report_default": {}
      }
     }
    }
   },
   "outputs": [],
   "source": [
    "#pivot table\n",
    "plot_data = widgets.Dropdown(\n",
    "            options=['df', 'original_data'],\n",
    "            value='df',\n",
    "            description='Data'\n",
    "        )\n",
    "\n",
    "plot_data.set_title  = 'plot_data'"
   ]
  },
  {
   "cell_type": "code",
   "execution_count": 19,
   "metadata": {
    "extensions": {
     "jupyter_dashboards": {
      "version": 1,
      "views": {
       "grid_default": {
        "col": 0,
        "height": 19,
        "hidden": false,
        "row": 64,
        "width": 4
       },
       "report_default": {}
      }
     }
    }
   },
   "outputs": [
    {
     "data": {
      "application/vnd.jupyter.widget-view+json": {
       "model_id": "d5219791d960466e8404ecb37c4455cf",
       "version_major": 2,
       "version_minor": 0
      },
      "text/plain": [
       "A Jupyter Widget"
      ]
     },
     "metadata": {},
     "output_type": "display_data"
    }
   ],
   "source": [
    "#pivot\n",
    "@interact\n",
    "def view_pivotTable(plot_data:plot_data):\n",
    "    data = globals()[plot_data]\n",
    "    display(pivot_ui(data))"
   ]
  },
  {
   "cell_type": "code",
   "execution_count": 20,
   "metadata": {
    "collapsed": true,
    "extensions": {
     "jupyter_dashboards": {
      "version": 1,
      "views": {
       "grid_default": {
        "hidden": true
       },
       "report_default": {}
      }
     }
    }
   },
   "outputs": [],
   "source": [
    "#assign widgets to tabs\n",
    "\n",
    "#visualisation\n",
    "widgetInteract = interactive(view_image)\n",
    "tab_visualise = widgets.HBox([widgetInteract,button])\n",
    "\n",
    "#pivot tables\n",
    "widgetData = interactive(view_Data)\n",
    "tab_data = widgets.HBox([widgetData,])\n",
    "\n",
    "#pivot tables\n",
    "widgetPivot = interactive(view_pivotTable)\n",
    "tab_pivot = widgets.HBox([widgetPivot,])\n",
    "\n",
    "#filter tables\n",
    "widgetFilter = interactive(view_filterTable)\n",
    "tab_filter = widgets.HBox([widgetFilter,])\n",
    "\n",
    "#analysis - linear regression\n",
    "widgetAnalyses = interactive(view_Analyses)\n",
    "tab_Analyses = widgets.HBox([widgetAnalyses,])\n",
    "\n",
    "#contingency table\n",
    "widgetContingency = interactive(view_Contingency)\n",
    "tab_Contingency = widgets.HBox([widgetContingency,])\n"
   ]
  },
  {
   "cell_type": "code",
   "execution_count": 21,
   "metadata": {
    "extensions": {
     "jupyter_dashboards": {
      "version": 1,
      "views": {
       "grid_default": {
        "col": 0,
        "height": 12,
        "hidden": false,
        "row": 83,
        "width": 12
       },
       "report_default": {}
      }
     }
    }
   },
   "outputs": [
    {
     "data": {
      "application/vnd.jupyter.widget-view+json": {
       "model_id": "590d41b4e005484bab5058c64437e5d9",
       "version_major": 2,
       "version_minor": 0
      },
      "text/plain": [
       "A Jupyter Widget"
      ]
     },
     "metadata": {},
     "output_type": "display_data"
    }
   ],
   "source": [
    "tab_nest = widgets.Tab()\n",
    "tab_nest.children = [tab_visualise,tab_data,tab_filter,widgetPivot,tab_Contingency,tab_Analyses]\n",
    "tab_nest.set_title(0, 'Visualise')\n",
    "tab_nest.set_title(1, 'Data')\n",
    "tab_nest.set_title(2, 'Filter')\n",
    "tab_nest.set_title(3, 'Pivot')\n",
    "tab_nest.set_title(4, 'Contingency')\n",
    "tab_nest.set_title(5, 'Analyses')\n",
    "tab_nest"
   ]
  },
  {
   "cell_type": "code",
   "execution_count": null,
   "metadata": {
    "collapsed": true,
    "extensions": {
     "jupyter_dashboards": {
      "version": 1,
      "views": {
       "grid_default": {
        "hidden": true
       },
       "report_default": {}
      }
     }
    }
   },
   "outputs": [],
   "source": []
  }
 ],
 "metadata": {
  "extensions": {
   "jupyter_dashboards": {
    "activeView": "grid_default",
    "version": 1,
    "views": {
     "grid_default": {
      "cellMargin": 10,
      "defaultCellHeight": 20,
      "maxColumns": 12,
      "name": "grid",
      "type": "grid"
     },
     "report_default": {
      "name": "report",
      "type": "report"
     }
    }
   }
  },
  "kernelspec": {
   "display_name": "Python 3",
   "language": "python",
   "name": "python3"
  },
  "language_info": {
   "codemirror_mode": {
    "name": "ipython",
    "version": 3
   },
   "file_extension": ".py",
   "mimetype": "text/x-python",
   "name": "python",
   "nbconvert_exporter": "python",
   "pygments_lexer": "ipython3",
   "version": "3.6.2"
  }
 },
 "nbformat": 4,
 "nbformat_minor": 2
}
